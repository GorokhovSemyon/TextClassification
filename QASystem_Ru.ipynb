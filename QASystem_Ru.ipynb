{
  "metadata": {
    "kernelspec": {
      "display_name": "Python 3",
      "name": "python3"
    },
    "language_info": {
      "name": "python",
      "version": "3.10.12",
      "mimetype": "text/x-python",
      "codemirror_mode": {
        "name": "ipython",
        "version": 3
      },
      "pygments_lexer": "ipython3",
      "nbconvert_exporter": "python",
      "file_extension": ".py"
    },
    "kaggle": {
      "accelerator": "gpu",
      "dataSources": [
        {
          "sourceId": 6104553,
          "sourceType": "datasetVersion",
          "datasetId": 3496946
        }
      ],
      "dockerImageVersionId": 30527,
      "isInternetEnabled": true,
      "language": "python",
      "sourceType": "notebook",
      "isGpuEnabled": true
    },
    "colab": {
      "provenance": [],
      "include_colab_link": true
    }
  },
  "nbformat_minor": 0,
  "nbformat": 4,
  "cells": [
    {
      "cell_type": "markdown",
      "metadata": {
        "id": "view-in-github",
        "colab_type": "text"
      },
      "source": [
        "<a href=\"https://colab.research.google.com/github/GorokhovSemyon/TextClassification/blob/main/QASystem_Ru.ipynb\" target=\"_parent\"><img src=\"https://colab.research.google.com/assets/colab-badge.svg\" alt=\"Open In Colab\"/></a>"
      ]
    },
    {
      "cell_type": "markdown",
      "source": [
        "\n",
        "В этом ноутбуке рассматривается типичное решение - RAG, для которого мы будем использовать модель с открытым исходным кодом и векторную базу данных Chroma DB. **Также будет интегрирована система семантического кэширования, которая будет хранить различные пользовательские запросы и решать, следует ли генерировать запрос, обогащенный информацией из векторной базы данных, или из базы данных с открытым исходным кодом. тайник.**\n",
        "\n",
        "Система семантического кэширования предназначена для идентификации похожих или идентичных запросов пользователей. При обнаружении соответствующего запроса система извлекает соответствующую информацию из кэша, что сокращает необходимость в ее извлечении из исходного источника.\n",
        "\n",
        "Поскольку при сравнении учитывается семантическое значение запросов, они не обязательно должны быть идентичными, чтобы система распознала их как один и тот же вопрос.  Они могут быть сформулированы по-разному или содержать неточности, будь то типографские или в структуре предложения, и мы можем определить, что пользователь действительно запрашивает ту же информацию.\n",
        "\n",
        "Например, такие запросы, как **Какая столица Франции?**, **Скажите, как называется столица Франции?** и **Что такое столица Франции?**, имеют одинаковую цель и должны быть идентифицированы как один и тот же вопрос.\n",
        "\n",
        "Хотя ответ модели может отличаться в зависимости от запроса краткого ответа во втором примере, информация, полученная из базы данных vector, должна быть такой же. Вот почему я размещаю систему кэширования между пользователем и базой данных vector, а не между пользователем и большой языковой моделью.\n",
        "\n",
        "<img src=\"https://github.com/peremartra/Large-Language-Model-Notebooks-Course/blob/main/img/semantic_cache.jpg?raw=true\">\n",
        "\n",
        "Большинство руководств, которые поясняют, как создать систему RAG, предназначены для использования одним пользователем, то есть для работы в среде тестирования. Другими словами, в ноутбуке можно взаимодействовать с локальной векторной базой данных и выполнять вызовы API или использовать локально сохраненную модель.\n",
        "\n",
        "Эта архитектура быстро становится недостаточной при попытке перевести одну из этих моделей в рабочую среду, где они могут столкнуться с десятками или тысячами повторяющихся запросов.\n",
        "\n",
        "Одним из способов повышения производительности является использование одного или нескольких семантических кэшей. В этом кэше сохраняются результаты предыдущих запросов, и перед обработкой нового запроса он проверяет, был ли ранее получен аналогичный запрос. Если это так, то вместо повторного выполнения процесса он извлекает информацию из кэша.\n",
        "\n",
        "В системе RAG есть два момента, которые требуют много времени:\n",
        "\n",
        "Извлечение информации, используемой для создания расширенного запроса:\n",
        "Вызовите большую языковую модель для получения ответа.\n",
        "В обеих точках может быть реализована система семантического кэширования, и мы могли бы даже иметь два кэша, по одному для каждой точки.\n",
        "\n",
        "Размещение его в точке отклика модели может привести к потере влияния на полученный ответ. Наша система кэширования может рассматривать \"Объясните Французскую революцию в 10 словах\" и \"Объясните Французскую революцию в ста словах\" как один и тот же запрос. Если наша система кэширования хранит ответы моделей, пользователи могут подумать, что их инструкции выполняются неточно.\n",
        "\n",
        "Но для обоих запросов потребуется одна и та же информация, чтобы обогатить запрос. Это основная причина, по которой я решил разместить систему семантического кэширования между запросом пользователя и извлечением информации из базы данных vector.\n",
        "\n",
        "Однако это только одно из возможных решений. В зависимости от типа ответов и системных запросов, он может быть размещен в той или иной точке. Очевидно, что кэширование ответов модели позволило бы максимально сэкономить время, это происходит за счет потери влияния пользователя на ответ.\n"
      ],
      "metadata": {
        "id": "AVv_M1Dz9TDz"
      }
    },
    {
      "cell_type": "markdown",
      "source": [
        "# Импортируйте и загрузите библиотеки.\n",
        "Для начала нам нужно установить необходимые пакеты Python.\n",
        "* **[sentence transformers](http:/www.sbert.net/)**. Эта библиотека необходима для преобразования предложений в векторы фиксированной длины, также известные как встраивания.\n",
        "* **[xformers](https://github.com/facebookresearch/xformers)**. это пакет, который предоставляет библиотеки и утилиты для облегчения работы с моделями-трансформерами. Нам необходимо установить его, чтобы избежать ошибок при работе с моделью и внедрениями.  \n",
        "* **[chromadb](https://www.trychroma.com/)**. Это наша векторная база данных. ChromaDB проста в использовании и имеет открытый исходный код, возможно, это наиболее часто используемая векторная база данных, используемая для хранения вложений.\n",
        "* **[accelerate](https://github.com/huggingface/accelerate)** Необходимо запустить модель на графическом процессоре."
      ],
      "metadata": {
        "id": "uizxY8679TDz"
      }
    },
    {
      "cell_type": "code",
      "source": [
        "!pip install -q transformers==4.38.1\n",
        "!pip install -q accelerate==0.27.2\n",
        "!pip install -q sentence-transformers==2.5.1\n",
        "!pip install -q xformers==0.0.24\n",
        "!pip install -q chromadb==0.4.24\n",
        "!pip install -q datasets==2.17.1"
      ],
      "metadata": {
        "execution": {
          "iopub.status.busy": "2024-02-29T17:30:10.787382Z",
          "iopub.execute_input": "2024-02-29T17:30:10.787688Z",
          "iopub.status.idle": "2024-02-29T17:34:12.804579Z",
          "shell.execute_reply.started": "2024-02-29T17:30:10.787657Z",
          "shell.execute_reply": "2024-02-29T17:34:12.80338Z"
        },
        "trusted": true,
        "id": "r1nUzd1u9TD0"
      },
      "execution_count": 1,
      "outputs": []
    },
    {
      "cell_type": "code",
      "source": [
        "import numpy as np\n",
        "import pandas as pd"
      ],
      "metadata": {
        "execution": {
          "iopub.status.busy": "2024-02-29T17:35:23.197205Z",
          "iopub.execute_input": "2024-02-29T17:35:23.197598Z",
          "iopub.status.idle": "2024-02-29T17:35:23.202259Z",
          "shell.execute_reply.started": "2024-02-29T17:35:23.197556Z",
          "shell.execute_reply": "2024-02-29T17:35:23.201404Z"
        },
        "trusted": true,
        "id": "5jUwC_eE9TD0"
      },
      "execution_count": 2,
      "outputs": []
    },
    {
      "cell_type": "markdown",
      "source": [
        "# Загрузка датасета"
      ],
      "metadata": {
        "id": "9P-kYtc79TD1"
      }
    },
    {
      "cell_type": "code",
      "source": [
        "from datasets import load_dataset\n",
        "\n",
        "data = load_dataset(\"lmqg/qag_ruquad\", split='train')"
      ],
      "metadata": {
        "id": "9IVxu-uxtCTw",
        "outputId": "27fd327e-df77-432d-d8d8-cf46ab9f1c90",
        "colab": {
          "base_uri": "https://localhost:8080/"
        }
      },
      "execution_count": 3,
      "outputs": [
        {
          "output_type": "stream",
          "name": "stderr",
          "text": [
            "/usr/local/lib/python3.10/dist-packages/huggingface_hub/utils/_token.py:89: UserWarning: \n",
            "The secret `HF_TOKEN` does not exist in your Colab secrets.\n",
            "To authenticate with the Hugging Face Hub, create a token in your settings tab (https://huggingface.co/settings/tokens), set it as secret in your Google Colab and restart your session.\n",
            "You will be able to reuse this secret in all of your notebooks.\n",
            "Please note that authentication is recommended but still optional to access public models or datasets.\n",
            "  warnings.warn(\n",
            "/usr/local/lib/python3.10/dist-packages/datasets/load.py:1454: FutureWarning: The repository for lmqg/qag_ruquad contains custom code which must be executed to correctly load the dataset. You can inspect the repository content at https://hf.co/datasets/lmqg/qag_ruquad\n",
            "You can avoid this message in future by passing the argument `trust_remote_code=True`.\n",
            "Passing `trust_remote_code=True` will be mandatory to load this dataset from the next major release of `datasets`.\n",
            "  warnings.warn(\n"
          ]
        }
      ]
    },
    {
      "cell_type": "code",
      "source": [
        "data = data.to_pandas()\n",
        "data[\"id\"]=data.index\n",
        "data.head(10)"
      ],
      "metadata": {
        "id": "WbLf8c7_yHwy",
        "outputId": "53cd8174-fe85-4f2c-bd42-3d004d756c70",
        "colab": {
          "base_uri": "https://localhost:8080/",
          "height": 519
        }
      },
      "execution_count": 4,
      "outputs": [
        {
          "output_type": "execute_result",
          "data": {
            "text/plain": [
              "                                             answers  \\\n",
              "0  [При нулевом,  Everybody , Warner Bros, чтобы ...   \n",
              "1  [Дилана, Кумиры британской публики The Beatles...   \n",
              "2  [Манитобский театр юного зрителя, Театральный ...   \n",
              "3  [около 50 персонажей, древние философы, в обра...   \n",
              "4  [самодисциплины, освобождение ума и разума от ...   \n",
              "5  [Котиаион, укрепление, В этой, римские воины, ...   \n",
              "6   [1986,  Лабиринт , Джокера, Понтия Пилата, 1988]   \n",
              "7  [с военной жизнью, Земледелие,  Георгики , ате...   \n",
              "8  [власть воли, состояние комы , это замкнутый к...   \n",
              "9       [два сезона, Star Trek: The Animated Series]   \n",
              "\n",
              "                                           questions  \\\n",
              "0  [При каком бюджете на раскрутку фото певицы ре...   \n",
              "1  [По чьему примеру битлы стали экспериментирова...   \n",
              "2  [Как называется первый англоязычный театр, пол...   \n",
              "3  [Сколько персонажей на фреске Афинская школа Р...   \n",
              "4  [Посредством чего можно усмирить пламя желаний...   \n",
              "5  [Как на греческом языке в то время называлось ...   \n",
              "6  [В каком году вышел рок-музыкальный фильм Абсо...   \n",
              "7  [С чем часто сравнивает поэт подробности земле...   \n",
              "8  [Какое понятие ввел А.Ф. Самойлов, Какое состо...   \n",
              "9  [Сколько сезонов включает в себя Звёздный путь...   \n",
              "\n",
              "                                           paragraph  \\\n",
              "0   Everybody , как и хотела Мадонна, выпускают с...   \n",
              "1   Freewheelin’ Bob Dylan произвёл большое впеча...   \n",
              "2   Le Cercle Molière — старейший (основан в 1925...   \n",
              "3   Афинская школа — блестяще выполненная многофи...   \n",
              "4   Бхагавадгита описывает йогу как контроль ума,...   \n",
              "5   В этой области много многолюдных поселков. Из...   \n",
              "6   Весёлого Рождества, мистер Лоуренс произвёл в...   \n",
              "7   Георгики считаются самым совершенным произвед...   \n",
              "8   Жизнь — это замкнутый круг рефлекторной деяте...   \n",
              "9   Звёздный путь: Анимационный сериал (англ. Sta...   \n",
              "\n",
              "                                   questions_answers  id  \n",
              "0  question: При каком бюджете на раскрутку фото ...   0  \n",
              "1  question: По чьему примеру битлы стали экспери...   1  \n",
              "2  question: Как называется первый англоязычный т...   2  \n",
              "3  question: Сколько персонажей на фреске Афинска...   3  \n",
              "4  question: Посредством чего можно усмирить плам...   4  \n",
              "5  question: Как на греческом языке в то время на...   5  \n",
              "6  question: В каком году вышел рок-музыкальный ф...   6  \n",
              "7  question: С чем часто сравнивает поэт подробно...   7  \n",
              "8  question: Какое понятие ввел А.Ф. Самойлов, an...   8  \n",
              "9  question: Сколько сезонов включает в себя Звёз...   9  "
            ],
            "text/html": [
              "\n",
              "  <div id=\"df-124e807a-56eb-4a27-95b3-f4e09376e2da\" class=\"colab-df-container\">\n",
              "    <div>\n",
              "<style scoped>\n",
              "    .dataframe tbody tr th:only-of-type {\n",
              "        vertical-align: middle;\n",
              "    }\n",
              "\n",
              "    .dataframe tbody tr th {\n",
              "        vertical-align: top;\n",
              "    }\n",
              "\n",
              "    .dataframe thead th {\n",
              "        text-align: right;\n",
              "    }\n",
              "</style>\n",
              "<table border=\"1\" class=\"dataframe\">\n",
              "  <thead>\n",
              "    <tr style=\"text-align: right;\">\n",
              "      <th></th>\n",
              "      <th>answers</th>\n",
              "      <th>questions</th>\n",
              "      <th>paragraph</th>\n",
              "      <th>questions_answers</th>\n",
              "      <th>id</th>\n",
              "    </tr>\n",
              "  </thead>\n",
              "  <tbody>\n",
              "    <tr>\n",
              "      <th>0</th>\n",
              "      <td>[При нулевом,  Everybody , Warner Bros, чтобы ...</td>\n",
              "      <td>[При каком бюджете на раскрутку фото певицы ре...</td>\n",
              "      <td>Everybody , как и хотела Мадонна, выпускают с...</td>\n",
              "      <td>question: При каком бюджете на раскрутку фото ...</td>\n",
              "      <td>0</td>\n",
              "    </tr>\n",
              "    <tr>\n",
              "      <th>1</th>\n",
              "      <td>[Дилана, Кумиры британской публики The Beatles...</td>\n",
              "      <td>[По чьему примеру битлы стали экспериментирова...</td>\n",
              "      <td>Freewheelin’ Bob Dylan произвёл большое впеча...</td>\n",
              "      <td>question: По чьему примеру битлы стали экспери...</td>\n",
              "      <td>1</td>\n",
              "    </tr>\n",
              "    <tr>\n",
              "      <th>2</th>\n",
              "      <td>[Манитобский театр юного зрителя, Театральный ...</td>\n",
              "      <td>[Как называется первый англоязычный театр, пол...</td>\n",
              "      <td>Le Cercle Molière — старейший (основан в 1925...</td>\n",
              "      <td>question: Как называется первый англоязычный т...</td>\n",
              "      <td>2</td>\n",
              "    </tr>\n",
              "    <tr>\n",
              "      <th>3</th>\n",
              "      <td>[около 50 персонажей, древние философы, в обра...</td>\n",
              "      <td>[Сколько персонажей на фреске Афинская школа Р...</td>\n",
              "      <td>Афинская школа — блестяще выполненная многофи...</td>\n",
              "      <td>question: Сколько персонажей на фреске Афинска...</td>\n",
              "      <td>3</td>\n",
              "    </tr>\n",
              "    <tr>\n",
              "      <th>4</th>\n",
              "      <td>[самодисциплины, освобождение ума и разума от ...</td>\n",
              "      <td>[Посредством чего можно усмирить пламя желаний...</td>\n",
              "      <td>Бхагавадгита описывает йогу как контроль ума,...</td>\n",
              "      <td>question: Посредством чего можно усмирить плам...</td>\n",
              "      <td>4</td>\n",
              "    </tr>\n",
              "    <tr>\n",
              "      <th>5</th>\n",
              "      <td>[Котиаион, укрепление, В этой, римские воины, ...</td>\n",
              "      <td>[Как на греческом языке в то время называлось ...</td>\n",
              "      <td>В этой области много многолюдных поселков. Из...</td>\n",
              "      <td>question: Как на греческом языке в то время на...</td>\n",
              "      <td>5</td>\n",
              "    </tr>\n",
              "    <tr>\n",
              "      <th>6</th>\n",
              "      <td>[1986,  Лабиринт , Джокера, Понтия Пилата, 1988]</td>\n",
              "      <td>[В каком году вышел рок-музыкальный фильм Абсо...</td>\n",
              "      <td>Весёлого Рождества, мистер Лоуренс произвёл в...</td>\n",
              "      <td>question: В каком году вышел рок-музыкальный ф...</td>\n",
              "      <td>6</td>\n",
              "    </tr>\n",
              "    <tr>\n",
              "      <th>7</th>\n",
              "      <td>[с военной жизнью, Земледелие,  Георгики , ате...</td>\n",
              "      <td>[С чем часто сравнивает поэт подробности земле...</td>\n",
              "      <td>Георгики считаются самым совершенным произвед...</td>\n",
              "      <td>question: С чем часто сравнивает поэт подробно...</td>\n",
              "      <td>7</td>\n",
              "    </tr>\n",
              "    <tr>\n",
              "      <th>8</th>\n",
              "      <td>[власть воли, состояние комы , это замкнутый к...</td>\n",
              "      <td>[Какое понятие ввел А.Ф. Самойлов, Какое состо...</td>\n",
              "      <td>Жизнь — это замкнутый круг рефлекторной деяте...</td>\n",
              "      <td>question: Какое понятие ввел А.Ф. Самойлов, an...</td>\n",
              "      <td>8</td>\n",
              "    </tr>\n",
              "    <tr>\n",
              "      <th>9</th>\n",
              "      <td>[два сезона, Star Trek: The Animated Series]</td>\n",
              "      <td>[Сколько сезонов включает в себя Звёздный путь...</td>\n",
              "      <td>Звёздный путь: Анимационный сериал (англ. Sta...</td>\n",
              "      <td>question: Сколько сезонов включает в себя Звёз...</td>\n",
              "      <td>9</td>\n",
              "    </tr>\n",
              "  </tbody>\n",
              "</table>\n",
              "</div>\n",
              "    <div class=\"colab-df-buttons\">\n",
              "\n",
              "  <div class=\"colab-df-container\">\n",
              "    <button class=\"colab-df-convert\" onclick=\"convertToInteractive('df-124e807a-56eb-4a27-95b3-f4e09376e2da')\"\n",
              "            title=\"Convert this dataframe to an interactive table.\"\n",
              "            style=\"display:none;\">\n",
              "\n",
              "  <svg xmlns=\"http://www.w3.org/2000/svg\" height=\"24px\" viewBox=\"0 -960 960 960\">\n",
              "    <path d=\"M120-120v-720h720v720H120Zm60-500h600v-160H180v160Zm220 220h160v-160H400v160Zm0 220h160v-160H400v160ZM180-400h160v-160H180v160Zm440 0h160v-160H620v160ZM180-180h160v-160H180v160Zm440 0h160v-160H620v160Z\"/>\n",
              "  </svg>\n",
              "    </button>\n",
              "\n",
              "  <style>\n",
              "    .colab-df-container {\n",
              "      display:flex;\n",
              "      gap: 12px;\n",
              "    }\n",
              "\n",
              "    .colab-df-convert {\n",
              "      background-color: #E8F0FE;\n",
              "      border: none;\n",
              "      border-radius: 50%;\n",
              "      cursor: pointer;\n",
              "      display: none;\n",
              "      fill: #1967D2;\n",
              "      height: 32px;\n",
              "      padding: 0 0 0 0;\n",
              "      width: 32px;\n",
              "    }\n",
              "\n",
              "    .colab-df-convert:hover {\n",
              "      background-color: #E2EBFA;\n",
              "      box-shadow: 0px 1px 2px rgba(60, 64, 67, 0.3), 0px 1px 3px 1px rgba(60, 64, 67, 0.15);\n",
              "      fill: #174EA6;\n",
              "    }\n",
              "\n",
              "    .colab-df-buttons div {\n",
              "      margin-bottom: 4px;\n",
              "    }\n",
              "\n",
              "    [theme=dark] .colab-df-convert {\n",
              "      background-color: #3B4455;\n",
              "      fill: #D2E3FC;\n",
              "    }\n",
              "\n",
              "    [theme=dark] .colab-df-convert:hover {\n",
              "      background-color: #434B5C;\n",
              "      box-shadow: 0px 1px 3px 1px rgba(0, 0, 0, 0.15);\n",
              "      filter: drop-shadow(0px 1px 2px rgba(0, 0, 0, 0.3));\n",
              "      fill: #FFFFFF;\n",
              "    }\n",
              "  </style>\n",
              "\n",
              "    <script>\n",
              "      const buttonEl =\n",
              "        document.querySelector('#df-124e807a-56eb-4a27-95b3-f4e09376e2da button.colab-df-convert');\n",
              "      buttonEl.style.display =\n",
              "        google.colab.kernel.accessAllowed ? 'block' : 'none';\n",
              "\n",
              "      async function convertToInteractive(key) {\n",
              "        const element = document.querySelector('#df-124e807a-56eb-4a27-95b3-f4e09376e2da');\n",
              "        const dataTable =\n",
              "          await google.colab.kernel.invokeFunction('convertToInteractive',\n",
              "                                                    [key], {});\n",
              "        if (!dataTable) return;\n",
              "\n",
              "        const docLinkHtml = 'Like what you see? Visit the ' +\n",
              "          '<a target=\"_blank\" href=https://colab.research.google.com/notebooks/data_table.ipynb>data table notebook</a>'\n",
              "          + ' to learn more about interactive tables.';\n",
              "        element.innerHTML = '';\n",
              "        dataTable['output_type'] = 'display_data';\n",
              "        await google.colab.output.renderOutput(dataTable, element);\n",
              "        const docLink = document.createElement('div');\n",
              "        docLink.innerHTML = docLinkHtml;\n",
              "        element.appendChild(docLink);\n",
              "      }\n",
              "    </script>\n",
              "  </div>\n",
              "\n",
              "\n",
              "<div id=\"df-4431f0ea-e251-4c36-9f96-cacde341964e\">\n",
              "  <button class=\"colab-df-quickchart\" onclick=\"quickchart('df-4431f0ea-e251-4c36-9f96-cacde341964e')\"\n",
              "            title=\"Suggest charts\"\n",
              "            style=\"display:none;\">\n",
              "\n",
              "<svg xmlns=\"http://www.w3.org/2000/svg\" height=\"24px\"viewBox=\"0 0 24 24\"\n",
              "     width=\"24px\">\n",
              "    <g>\n",
              "        <path d=\"M19 3H5c-1.1 0-2 .9-2 2v14c0 1.1.9 2 2 2h14c1.1 0 2-.9 2-2V5c0-1.1-.9-2-2-2zM9 17H7v-7h2v7zm4 0h-2V7h2v10zm4 0h-2v-4h2v4z\"/>\n",
              "    </g>\n",
              "</svg>\n",
              "  </button>\n",
              "\n",
              "<style>\n",
              "  .colab-df-quickchart {\n",
              "      --bg-color: #E8F0FE;\n",
              "      --fill-color: #1967D2;\n",
              "      --hover-bg-color: #E2EBFA;\n",
              "      --hover-fill-color: #174EA6;\n",
              "      --disabled-fill-color: #AAA;\n",
              "      --disabled-bg-color: #DDD;\n",
              "  }\n",
              "\n",
              "  [theme=dark] .colab-df-quickchart {\n",
              "      --bg-color: #3B4455;\n",
              "      --fill-color: #D2E3FC;\n",
              "      --hover-bg-color: #434B5C;\n",
              "      --hover-fill-color: #FFFFFF;\n",
              "      --disabled-bg-color: #3B4455;\n",
              "      --disabled-fill-color: #666;\n",
              "  }\n",
              "\n",
              "  .colab-df-quickchart {\n",
              "    background-color: var(--bg-color);\n",
              "    border: none;\n",
              "    border-radius: 50%;\n",
              "    cursor: pointer;\n",
              "    display: none;\n",
              "    fill: var(--fill-color);\n",
              "    height: 32px;\n",
              "    padding: 0;\n",
              "    width: 32px;\n",
              "  }\n",
              "\n",
              "  .colab-df-quickchart:hover {\n",
              "    background-color: var(--hover-bg-color);\n",
              "    box-shadow: 0 1px 2px rgba(60, 64, 67, 0.3), 0 1px 3px 1px rgba(60, 64, 67, 0.15);\n",
              "    fill: var(--button-hover-fill-color);\n",
              "  }\n",
              "\n",
              "  .colab-df-quickchart-complete:disabled,\n",
              "  .colab-df-quickchart-complete:disabled:hover {\n",
              "    background-color: var(--disabled-bg-color);\n",
              "    fill: var(--disabled-fill-color);\n",
              "    box-shadow: none;\n",
              "  }\n",
              "\n",
              "  .colab-df-spinner {\n",
              "    border: 2px solid var(--fill-color);\n",
              "    border-color: transparent;\n",
              "    border-bottom-color: var(--fill-color);\n",
              "    animation:\n",
              "      spin 1s steps(1) infinite;\n",
              "  }\n",
              "\n",
              "  @keyframes spin {\n",
              "    0% {\n",
              "      border-color: transparent;\n",
              "      border-bottom-color: var(--fill-color);\n",
              "      border-left-color: var(--fill-color);\n",
              "    }\n",
              "    20% {\n",
              "      border-color: transparent;\n",
              "      border-left-color: var(--fill-color);\n",
              "      border-top-color: var(--fill-color);\n",
              "    }\n",
              "    30% {\n",
              "      border-color: transparent;\n",
              "      border-left-color: var(--fill-color);\n",
              "      border-top-color: var(--fill-color);\n",
              "      border-right-color: var(--fill-color);\n",
              "    }\n",
              "    40% {\n",
              "      border-color: transparent;\n",
              "      border-right-color: var(--fill-color);\n",
              "      border-top-color: var(--fill-color);\n",
              "    }\n",
              "    60% {\n",
              "      border-color: transparent;\n",
              "      border-right-color: var(--fill-color);\n",
              "    }\n",
              "    80% {\n",
              "      border-color: transparent;\n",
              "      border-right-color: var(--fill-color);\n",
              "      border-bottom-color: var(--fill-color);\n",
              "    }\n",
              "    90% {\n",
              "      border-color: transparent;\n",
              "      border-bottom-color: var(--fill-color);\n",
              "    }\n",
              "  }\n",
              "</style>\n",
              "\n",
              "  <script>\n",
              "    async function quickchart(key) {\n",
              "      const quickchartButtonEl =\n",
              "        document.querySelector('#' + key + ' button');\n",
              "      quickchartButtonEl.disabled = true;  // To prevent multiple clicks.\n",
              "      quickchartButtonEl.classList.add('colab-df-spinner');\n",
              "      try {\n",
              "        const charts = await google.colab.kernel.invokeFunction(\n",
              "            'suggestCharts', [key], {});\n",
              "      } catch (error) {\n",
              "        console.error('Error during call to suggestCharts:', error);\n",
              "      }\n",
              "      quickchartButtonEl.classList.remove('colab-df-spinner');\n",
              "      quickchartButtonEl.classList.add('colab-df-quickchart-complete');\n",
              "    }\n",
              "    (() => {\n",
              "      let quickchartButtonEl =\n",
              "        document.querySelector('#df-4431f0ea-e251-4c36-9f96-cacde341964e button');\n",
              "      quickchartButtonEl.style.display =\n",
              "        google.colab.kernel.accessAllowed ? 'block' : 'none';\n",
              "    })();\n",
              "  </script>\n",
              "</div>\n",
              "    </div>\n",
              "  </div>\n"
            ],
            "application/vnd.google.colaboratory.intrinsic+json": {
              "type": "dataframe",
              "variable_name": "data",
              "summary": "{\n  \"name\": \"data\",\n  \"rows\": 10407,\n  \"fields\": [\n    {\n      \"column\": \"answers\",\n      \"properties\": {\n        \"dtype\": \"object\",\n        \"semantic_type\": \"\",\n        \"description\": \"\"\n      }\n    },\n    {\n      \"column\": \"questions\",\n      \"properties\": {\n        \"dtype\": \"object\",\n        \"semantic_type\": \"\",\n        \"description\": \"\"\n      }\n    },\n    {\n      \"column\": \"paragraph\",\n      \"properties\": {\n        \"dtype\": \"string\",\n        \"num_unique_values\": 10407,\n        \"samples\": [\n          \"\\u041a\\u043e\\u043d\\u0432\\u0435\\u043a\\u0442\\u0438\\u0432\\u043d\\u044b\\u0435 \\u043f\\u043e\\u0442\\u043e\\u043a\\u0438, \\u0432\\u044b\\u043d\\u043e\\u0441\\u044f\\u0449\\u0438\\u0435 \\u0432\\u043d\\u0443\\u0442\\u0440\\u0435\\u043d\\u043d\\u0435\\u0435 \\u0442\\u0435\\u043f\\u043b\\u043e \\u043a \\u043f\\u043e\\u0432\\u0435\\u0440\\u0445\\u043d\\u043e\\u0441\\u0442\\u0438, \\u0432\\u043d\\u0435\\u0448\\u043d\\u0435 \\u043f\\u0440\\u043e\\u044f\\u0432\\u043b\\u044f\\u044e\\u0442\\u0441\\u044f \\u0432 \\u0432\\u0438\\u0434\\u0435 \\u0441\\u0432\\u0435\\u0442\\u043b\\u044b\\u0445 \\u0437\\u043e\\u043d \\u0438 \\u0442\\u0451\\u043c\\u043d\\u044b\\u0445 \\u043f\\u043e\\u044f\\u0441\\u043e\\u0432. \\u0412 \\u043e\\u0431\\u043b\\u0430\\u0441\\u0442\\u0438 \\u0441\\u0432\\u0435\\u0442\\u043b\\u044b\\u0445 \\u0437\\u043e\\u043d \\u043e\\u0442\\u043c\\u0435\\u0447\\u0430\\u0435\\u0442\\u0441\\u044f \\u043f\\u043e\\u0432\\u044b\\u0448\\u0435\\u043d\\u043d\\u043e\\u0435 \\u0434\\u0430\\u0432\\u043b\\u0435\\u043d\\u0438\\u0435, \\u0441\\u043e\\u043e\\u0442\\u0432\\u0435\\u0442\\u0441\\u0442\\u0432\\u0443\\u044e\\u0449\\u0435\\u0435 \\u0432\\u043e\\u0441\\u0445\\u043e\\u0434\\u044f\\u0449\\u0438\\u043c \\u043f\\u043e\\u0442\\u043e\\u043a\\u0430\\u043c. \\u041e\\u0431\\u043b\\u0430\\u043a\\u0430, \\u043e\\u0431\\u0440\\u0430\\u0437\\u0443\\u044e\\u0449\\u0438\\u0435 \\u0437\\u043e\\u043d\\u044b, \\u0440\\u0430\\u0441\\u043f\\u043e\\u043b\\u0430\\u0433\\u0430\\u044e\\u0442\\u0441\\u044f \\u043d\\u0430 \\u0431\\u043e\\u043b\\u0435\\u0435 \\u0432\\u044b\\u0441\\u043e\\u043a\\u043e\\u043c \\u0443\\u0440\\u043e\\u0432\\u043d\\u0435 (\\u043f\\u0440\\u0438\\u043c\\u0435\\u0440\\u043d\\u043e \\u043d\\u0430 20 \\u043a\\u043c), \\u0430 \\u0438\\u0445 \\u0441\\u0432\\u0435\\u0442\\u043b\\u0430\\u044f \\u043e\\u043a\\u0440\\u0430\\u0441\\u043a\\u0430 \\u043e\\u0431\\u044a\\u044f\\u0441\\u043d\\u044f\\u0435\\u0442\\u0441\\u044f, \\u0432\\u0438\\u0434\\u0438\\u043c\\u043e, \\u043f\\u043e\\u0432\\u044b\\u0448\\u0435\\u043d\\u043d\\u043e\\u0439 \\u043a\\u043e\\u043d\\u0446\\u0435\\u043d\\u0442\\u0440\\u0430\\u0446\\u0438\\u0435\\u0439 \\u044f\\u0440\\u043a\\u043e-\\u0431\\u0435\\u043b\\u044b\\u0445 \\u043a\\u0440\\u0438\\u0441\\u0442\\u0430\\u043b\\u043b\\u043e\\u0432 \\u0430\\u043c\\u043c\\u0438\\u0430\\u043a\\u0430. \\u0420\\u0430\\u0441\\u043f\\u043e\\u043b\\u0430\\u0433\\u0430\\u044e\\u0449\\u0438\\u0435\\u0441\\u044f \\u043d\\u0438\\u0436\\u0435 \\u0442\\u0451\\u043c\\u043d\\u044b\\u0435 \\u043e\\u0431\\u043b\\u0430\\u043a\\u0430 \\u043f\\u043e\\u044f\\u0441\\u043e\\u0432 \\u0441\\u043e\\u0441\\u0442\\u043e\\u044f\\u0442, \\u043f\\u0440\\u0435\\u0434\\u043f\\u043e\\u043b\\u043e\\u0436\\u0438\\u0442\\u0435\\u043b\\u044c\\u043d\\u043e, \\u0438\\u0437 \\u043a\\u0440\\u0430\\u0441\\u043d\\u043e-\\u043a\\u043e\\u0440\\u0438\\u0447\\u043d\\u0435\\u0432\\u044b\\u0445 \\u043a\\u0440\\u0438\\u0441\\u0442\\u0430\\u043b\\u043b\\u043e\\u0432 \\u0433\\u0438\\u0434\\u0440\\u043e\\u0441\\u0443\\u043b\\u044c\\u0444\\u0438\\u0434\\u0430 \\u0430\\u043c\\u043c\\u043e\\u043d\\u0438\\u044f \\u0438 \\u0438\\u043c\\u0435\\u044e\\u0442 \\u0431\\u043e\\u043b\\u0435\\u0435 \\u0432\\u044b\\u0441\\u043e\\u043a\\u0443\\u044e \\u0442\\u0435\\u043c\\u043f\\u0435\\u0440\\u0430\\u0442\\u0443\\u0440\\u0443. \\u042d\\u0442\\u0438 \\u0441\\u0442\\u0440\\u0443\\u043a\\u0442\\u0443\\u0440\\u044b \\u043f\\u0440\\u0435\\u0434\\u0441\\u0442\\u0430\\u0432\\u043b\\u044f\\u044e\\u0442 \\u043e\\u0431\\u043b\\u0430\\u0441\\u0442\\u0438 \\u043d\\u0438\\u0441\\u0445\\u043e\\u0434\\u044f\\u0449\\u0438\\u0445 \\u043f\\u043e\\u0442\\u043e\\u043a\\u043e\\u0432. \\u0417\\u043e\\u043d\\u044b \\u0438 \\u043f\\u043e\\u044f\\u0441\\u0430 \\u0438\\u043c\\u0435\\u044e\\u0442 \\u0440\\u0430\\u0437\\u043d\\u0443\\u044e \\u0441\\u043a\\u043e\\u0440\\u043e\\u0441\\u0442\\u044c \\u0434\\u0432\\u0438\\u0436\\u0435\\u043d\\u0438\\u044f \\u0432 \\u043d\\u0430\\u043f\\u0440\\u0430\\u0432\\u043b\\u0435\\u043d\\u0438\\u0438 \\u0432\\u0440\\u0430\\u0449\\u0435\\u043d\\u0438\\u044f \\u042e\\u043f\\u0438\\u0442\\u0435\\u0440\\u0430. \\u041f\\u0435\\u0440\\u0438\\u043e\\u0434 \\u043e\\u0431\\u0440\\u0430\\u0449\\u0435\\u043d\\u0438\\u044f \\u043a\\u043e\\u043b\\u0435\\u0431\\u043b\\u0435\\u0442\\u0441\\u044f \\u043d\\u0430 \\u043d\\u0435\\u0441\\u043a\\u043e\\u043b\\u044c\\u043a\\u043e \\u043c\\u0438\\u043d\\u0443\\u0442 \\u0432 \\u0437\\u0430\\u0432\\u0438\\u0441\\u0438\\u043c\\u043e\\u0441\\u0442\\u0438 \\u043e\\u0442 \\u0448\\u0438\\u0440\\u043e\\u0442\\u044b. \\u042d\\u0442\\u043e \\u043f\\u0440\\u0438\\u0432\\u043e\\u0434\\u0438\\u0442 \\u043a \\u0441\\u0443\\u0449\\u0435\\u0441\\u0442\\u0432\\u043e\\u0432\\u0430\\u043d\\u0438\\u044e \\u0443\\u0441\\u0442\\u043e\\u0439\\u0447\\u0438\\u0432\\u044b\\u0445 \\u0437\\u043e\\u043d\\u0430\\u043b\\u044c\\u043d\\u044b\\u0445 \\u0442\\u0435\\u0447\\u0435\\u043d\\u0438\\u0439 \\u0438\\u043b\\u0438 \\u0432\\u0435\\u0442\\u0440\\u043e\\u0432, \\u043f\\u043e\\u0441\\u0442\\u043e\\u044f\\u043d\\u043d\\u043e \\u0434\\u0443\\u044e\\u0449\\u0438\\u0445 \\u043f\\u0430\\u0440\\u0430\\u043b\\u043b\\u0435\\u043b\\u044c\\u043d\\u043e \\u044d\\u043a\\u0432\\u0430\\u0442\\u043e\\u0440\\u0443 \\u0432 \\u043e\\u0434\\u043d\\u043e\\u043c \\u043d\\u0430\\u043f\\u0440\\u0430\\u0432\\u043b\\u0435\\u043d\\u0438\\u0438. \\u0421\\u043a\\u043e\\u0440\\u043e\\u0441\\u0442\\u0438 \\u0432 \\u044d\\u0442\\u043e\\u0439 \\u0433\\u043b\\u043e\\u0431\\u0430\\u043b\\u044c\\u043d\\u043e\\u0439 \\u0441\\u0438\\u0441\\u0442\\u0435\\u043c\\u0435 \\u0434\\u043e\\u0441\\u0442\\u0438\\u0433\\u0430\\u044e\\u0442 \\u043e\\u0442 50 \\u0434\\u043e 150 \\u043c/\\u0441 \\u0438 \\u0432\\u044b\\u0448\\u0435. \\u041d\\u0430 \\u0433\\u0440\\u0430\\u043d\\u0438\\u0446\\u0430\\u0445 \\u043f\\u043e\\u044f\\u0441\\u043e\\u0432 \\u0438 \\u0437\\u043e\\u043d \\u043d\\u0430\\u0431\\u043b\\u044e\\u0434\\u0430\\u0435\\u0442\\u0441\\u044f \\u0441\\u0438\\u043b\\u044c\\u043d\\u0430\\u044f \\u0442\\u0443\\u0440\\u0431\\u0443\\u043b\\u0435\\u043d\\u0442\\u043d\\u043e\\u0441\\u0442\\u044c, \\u043a\\u043e\\u0442\\u043e\\u0440\\u0430\\u044f \\u043f\\u0440\\u0438\\u0432\\u043e\\u0434\\u0438\\u0442 \\u043a \\u043e\\u0431\\u0440\\u0430\\u0437\\u043e\\u0432\\u0430\\u043d\\u0438\\u044e \\u043c\\u043d\\u043e\\u0433\\u043e\\u0447\\u0438\\u0441\\u043b\\u0435\\u043d\\u043d\\u044b\\u0445 \\u0432\\u0438\\u0445\\u0440\\u0435\\u0432\\u044b\\u0445 \\u0441\\u0442\\u0440\\u0443\\u043a\\u0442\\u0443\\u0440. \\u041d\\u0430\\u0438\\u0431\\u043e\\u043b\\u0435\\u0435 \\u0438\\u0437\\u0432\\u0435\\u0441\\u0442\\u043d\\u044b\\u043c \\u0442\\u0430\\u043a\\u0438\\u043c \\u043e\\u0431\\u0440\\u0430\\u0437\\u043e\\u0432\\u0430\\u043d\\u0438\\u0435\\u043c \\u044f\\u0432\\u043b\\u044f\\u0435\\u0442\\u0441\\u044f \\u0411\\u043e\\u043b\\u044c\\u0448\\u043e\\u0435 \\u043a\\u0440\\u0430\\u0441\\u043d\\u043e\\u0435 \\u043f\\u044f\\u0442\\u043d\\u043e, \\u043d\\u0430\\u0431\\u043b\\u044e\\u0434\\u0430\\u044e\\u0449\\u0435\\u0435\\u0441\\u044f \\u043d\\u0430 \\u043f\\u043e\\u0432\\u0435\\u0440\\u0445\\u043d\\u043e\\u0441\\u0442\\u0438 \\u042e\\u043f\\u0438\\u0442\\u0435\\u0440\\u0430 \\u0432 \\u0442\\u0435\\u0447\\u0435\\u043d\\u0438\\u0435 \\u043f\\u043e\\u0441\\u043b\\u0435\\u0434\\u043d\\u0438\\u0445 300 \\u043b\\u0435\\u0442.\",\n          \"\\u041d\\u0430 \\u0447\\u0435\\u043c\\u043f\\u0438\\u043e\\u043d\\u0430\\u0442\\u0430\\u0445 \\u043c\\u0438\\u0440\\u0430 1962 \\u0438 1966 \\u043e\\u043d \\u043d\\u0435 \\u0441\\u043c\\u043e\\u0433 \\u043f\\u043e\\u043b\\u043d\\u043e\\u0441\\u0442\\u044c\\u044e \\u043f\\u0440\\u043e\\u044f\\u0432\\u0438\\u0442\\u044c \\u0441\\u0435\\u0431\\u044f \\u043d\\u0430 \\u043f\\u043e\\u043b\\u0435 \\u0438\\u0437-\\u0437\\u0430 \\u0442\\u0440\\u0430\\u0432\\u043c. \\u0424\\u0438\\u043d\\u0430\\u043b\\u044c\\u043d\\u044b\\u0439 \\u0442\\u0443\\u0440\\u043d\\u0438\\u0440 1970 (\\u0447\\u0435\\u0442\\u0432\\u0451\\u0440\\u0442\\u044b\\u0439 \\u0432 \\u0441\\u043f\\u043e\\u0440\\u0442\\u0438\\u0432\\u043d\\u043e\\u0439 \\u0431\\u0438\\u043e\\u0433\\u0440\\u0430\\u0444\\u0438\\u0438 \\u041f\\u0435\\u043b\\u0435) \\u0441\\u0442\\u0430\\u043b \\u0442\\u0440\\u0438\\u0443\\u043c\\u0444\\u0430\\u043b\\u044c\\u043d\\u044b\\u043c \\u2014 \\u043b\\u0438\\u0447\\u043d\\u043e \\u0434\\u043b\\u044f \\u043d\\u0435\\u0433\\u043e, \\u0438 \\u0434\\u043b\\u044f \\u0432\\u0441\\u0435\\u0439 \\u043a\\u043e\\u043c\\u0430\\u043d\\u0434\\u044b, \\u0441\\u043e\\u0441\\u0442\\u0430\\u0432 \\u043a\\u043e\\u0442\\u043e\\u0440\\u043e\\u0439 \\u043d\\u0430 \\u044d\\u0442\\u043e\\u043c \\u0447\\u0435\\u043c\\u043f\\u0438\\u043e\\u043d\\u0430\\u0442\\u0435 \\u043c\\u043d\\u043e\\u0433\\u0438\\u0435 \\u044d\\u043a\\u0441\\u043f\\u0435\\u0440\\u0442\\u044b \\u0441\\u0447\\u0438\\u0442\\u0430\\u044e\\u0442 \\u0441\\u0438\\u043b\\u044c\\u043d\\u0435\\u0439\\u0448\\u0438\\u043c \\u0437\\u0430 \\u0432\\u0441\\u044e \\u0438\\u0441\\u0442\\u043e\\u0440\\u0438\\u044e \\u0441\\u0431\\u043e\\u0440\\u043d\\u043e\\u0439 \\u0411\\u0440\\u0430\\u0437\\u0438\\u043b\\u0438\\u0438. \\u0411\\u0440\\u0430\\u0437\\u0438\\u043b\\u044c\\u0441\\u043a\\u0438\\u0435 \\u0444\\u0443\\u0442\\u0431\\u043e\\u043b\\u0438\\u0441\\u0442\\u044b, \\u0432 \\u0442\\u0440\\u0435\\u0442\\u0438\\u0439 \\u0440\\u0430\\u0437 \\u0432\\u044b\\u0438\\u0433\\u0440\\u0430\\u0432\\u0448\\u0438\\u0435 \\u043f\\u0440\\u0438\\u0437 \\u0416\\u044e\\u043b\\u044f \\u0420\\u0438\\u043c\\u0435, \\u043f\\u043e\\u043b\\u0443\\u0447\\u0438\\u043b\\u0438 \\u043f\\u0440\\u0430\\u0432\\u043e \\u043d\\u0430\\u0432\\u0435\\u0447\\u043d\\u043e \\u043e\\u0441\\u0442\\u0430\\u0432\\u0438\\u0442\\u044c \\u0435\\u0433\\u043e \\u0443 \\u0441\\u0435\\u0431\\u044f, \\u0430 \\u041f\\u0435\\u043b\\u0435 \\u043f\\u043e\\u0441\\u043b\\u0435 \\u043f\\u043e\\u0431\\u0435\\u0434\\u044b \\u0441\\u0431\\u043e\\u0440\\u043d\\u043e\\u0439 \\u0432 \\u041c\\u0435\\u043a\\u0441\\u0438\\u043a\\u0435 \\u0441\\u0442\\u0430\\u043b \\u0435\\u0434\\u0438\\u043d\\u0441\\u0442\\u0432\\u0435\\u043d\\u043d\\u044b\\u043c \\u0432 \\u0438\\u0441\\u0442\\u043e\\u0440\\u0438\\u0438 \\u0442\\u0440\\u0438\\u0436\\u0434\\u044b \\u0447\\u0435\\u043c\\u043f\\u0438\\u043e\\u043d\\u043e\\u043c \\u043c\\u0438\\u0440\\u0430 \\u043f\\u043e \\u0444\\u0443\\u0442\\u0431\\u043e\\u043b\\u0443. \\u0421\\u0438\\u043c\\u0432\\u043e\\u043b\\u0438\\u0447\\u043d\\u043e, \\u0447\\u0442\\u043e \\u0438\\u043c\\u0435\\u043d\\u043d\\u043e \\u041f\\u0435\\u043b\\u0435 \\u0437\\u0430\\u0431\\u0438\\u043b \\u0432 \\u041c\\u0435\\u043a\\u0441\\u0438\\u043a\\u0435 \\u0441\\u043e\\u0442\\u044b\\u0439 \\u0433\\u043e\\u043b \\u0431\\u0440\\u0430\\u0437\\u0438\\u043b\\u044c\\u0441\\u043a\\u043e\\u0439 \\u0441\\u0431\\u043e\\u0440\\u043d\\u043e\\u0439 \\u0437\\u0430 \\u0432\\u0441\\u0435 \\u0432\\u0440\\u0435\\u043c\\u044f \\u0435\\u0451 \\u0443\\u0447\\u0430\\u0441\\u0442\\u0438\\u044f \\u0432 \\u0444\\u0438\\u043d\\u0430\\u043b\\u044c\\u043d\\u044b\\u0445 \\u0442\\u0443\\u0440\\u043d\\u0438\\u0440\\u0430\\u0445 \\u0447\\u0435\\u043c\\u043f\\u0438\\u043e\\u043d\\u0430\\u0442\\u043e\\u0432 \\u043c\\u0438\\u0440\\u0430. \\u0421\\u0430\\u043c \\u043e\\u043d \\u0441\\u044b\\u0433\\u0440\\u0430\\u043b \\u043d\\u0430 \\u044d\\u0442\\u0438\\u0445 \\u0442\\u0443\\u0440\\u043d\\u0438\\u0440\\u0430\\u0445 14 \\u043c\\u0430\\u0442\\u0447\\u0435\\u0439 \\u0438 \\u0437\\u0430\\u0431\\u0438\\u043b 12 \\u0433\\u043e\\u043b\\u043e\\u0432. \\u0412 \\u043e\\u0431\\u0449\\u0435\\u0439 \\u0441\\u043b\\u043e\\u0436\\u043d\\u043e\\u0441\\u0442\\u0438 \\u0432 \\u0432\\u044b\\u0441\\u0442\\u0443\\u043f\\u043b\\u0435\\u043d\\u0438\\u044f\\u0445 \\u0437\\u0430 \\u0441\\u0431\\u043e\\u0440\\u043d\\u0443\\u044e (92 \\u043c\\u0430\\u0442\\u0447\\u0430) \\u043e\\u043d \\u043f\\u0440\\u043e\\u0432\\u0451\\u043b \\u0432 \\u0432\\u043e\\u0440\\u043e\\u0442\\u0430 \\u0441\\u043e\\u043f\\u0435\\u0440\\u043d\\u0438\\u043a\\u043e\\u0432 77 \\u043c\\u044f\\u0447\\u0435\\u0439 \\u2014 \\u0434\\u043e\\u0441\\u0442\\u0438\\u0436\\u0435\\u043d\\u0438\\u0435, \\u043a\\u043e\\u0442\\u043e\\u0440\\u043e\\u0435 \\u0434\\u043e \\u0441\\u0438\\u0445 \\u043f\\u043e\\u0440 \\u043e\\u0441\\u0442\\u0430\\u0435\\u0442\\u0441\\u044f \\u043d\\u0435\\u043f\\u0440\\u0435\\u0432\\u0437\\u043e\\u0439\\u0434\\u0435\\u043d\\u043d\\u044b\\u043c. \\u041f\\u0440\\u0438 \\u044d\\u0442\\u043e\\u043c \\u043e\\u043d \\u043d\\u0438 \\u0440\\u0430\\u0437\\u0443 \\u043d\\u0435 \\u0432\\u044b\\u0432\\u043e\\u0434\\u0438\\u043b \\u043a\\u043e\\u043c\\u0430\\u043d\\u0434\\u0443 \\u0441 \\u043a\\u0430\\u043f\\u0438\\u0442\\u0430\\u043d\\u0441\\u043a\\u043e\\u0439 \\u043f\\u043e\\u0432\\u044f\\u0437\\u043a\\u043e\\u0439.\",\n          \"\\u043c\\u0430\\u043b\\u043e\\u0432\\u043e\\u0434\\u043d\\u044b\\u0435 \\u0442\\u0435\\u0440\\u0440\\u0438\\u0442\\u043e\\u0440\\u0438\\u0438, \\u0443\\u0434\\u0430\\u043b\\u0435\\u043d\\u043d\\u044b\\u0435 \\u0438 \\u0438\\u0437\\u043e\\u043b\\u0438\\u0440\\u043e\\u0432\\u0430\\u043d\\u043d\\u044b\\u0435 \\u043e\\u0442 \\u043e\\u043a\\u0435\\u0430\\u043d\\u043e\\u0432, \\u0437\\u0430\\u043d\\u0438\\u043c\\u0430\\u044e\\u0442 \\u0437\\u043d\\u0430\\u0447\\u0438\\u0442\\u0435\\u043b\\u044c\\u043d\\u0443\\u044e \\u043f\\u043b\\u043e\\u0449\\u0430\\u0434\\u044c. \\u0431\\u0430\\u0441\\u0441\\u0435\\u0439\\u043d\\u044b \\u0432\\u043d\\u0443\\u0442\\u0440\\u0435\\u043d\\u043d\\u0435\\u0433\\u043e \\u0441\\u0442\\u043e\\u043a\\u0430 \\u0441\\u043e\\u0441\\u0442\\u0430\\u0432\\u043b\\u044f\\u044e\\u0442 \\u043e\\u043a\\u043e\\u043b\\u043e \\u043e\\u0434\\u043d\\u043e\\u0439 \\u0432\\u0442\\u043e\\u0440\\u043e\\u0439 \\u043f\\u043b\\u043e\\u0449\\u0430\\u0434\\u0438 \\u043c\\u0430\\u0442\\u0435\\u0440\\u0438\\u043a\\u0430. \\u0431\\u043e\\u043b\\u044c\\u0448\\u0438\\u0435 \\u0437\\u0430\\u043f\\u0430\\u0441\\u044b \\u043f\\u043e\\u0434\\u0437\\u0435\\u043c\\u043d\\u044b\\u0445 \\u0432\\u043e\\u0434 \\u043e\\u0431\\u043d\\u0430\\u0440\\u0443\\u0436\\u0435\\u043d\\u044b \\u043f\\u043e\\u0434 \\u0437\\u0430\\u043f\\u0430\\u0434\\u043d\\u043e-\\u0441\\u0438\\u0431\\u0438\\u0440\\u0441\\u043a\\u043e\\u0439 \\u0440\\u0430\\u0432\\u043d\\u0438\\u043d\\u043e\\u0439. \\u0432\\u0431\\u043b\\u0438\\u0437\\u0438 \\u0432\\u044b\\u0441\\u043e\\u043a\\u0438\\u0445 \\u0433\\u043e\\u0440, \\u0441\\u043e\\u0441\\u0435\\u0434\\u0441\\u0442\\u0432\\u0443\\u044e\\u0449\\u0438\\u0445 \\u0441 \\u043a\\u043e\\u0442\\u043b\\u043e\\u0432\\u0438\\u043d\\u0430\\u043c\\u0438, \\u0432 \\u0437\\u0430\\u0441\\u0443\\u0448\\u043b\\u0438\\u0432\\u044b\\u0445 \\u0440\\u0430\\u0439\\u043e\\u043d\\u0430\\u0445 \\u0433\\u0440\\u0443\\u043d\\u0442\\u043e\\u0432\\u044b\\u0435 \\u0432\\u043e\\u0434\\u044b \\u0432\\u044b\\u0445\\u043e\\u0434\\u044f\\u0442 \\u0432 \\u0432\\u0438\\u0434\\u0435 \\u043a\\u043b\\u044e\\u0447\\u0435\\u0439. \\u0432 \\u0442\\u0430\\u043a\\u0438\\u0445 \\u043c\\u0435\\u0441\\u0442\\u0430\\u0445 \\u0432 \\u0441\\u0440\\u0435\\u0434\\u043d\\u0435\\u0439 \\u0438 \\u0446\\u0435\\u043d\\u0442\\u0440\\u0430\\u043b\\u044c\\u043d\\u043e\\u0439 \\u0430\\u0437\\u0438\\u0438 \\u043e\\u0431\\u0440\\u0430\\u0437\\u043e\\u0432\\u0430\\u043b\\u0438\\u0441\\u044c \\u043e\\u0430\\u0437\\u0438\\u0441\\u044b. \\u043c\\u043d\\u043e\\u0433\\u043e \\u043f\\u0440\\u0435\\u0441\\u043d\\u044b\\u0445 \\u0432\\u043e\\u0434 \\u0445\\u0440\\u0430\\u043d\\u044f\\u0442 \\u043c\\u0430\\u0442\\u0435\\u0440\\u0438\\u043a\\u043e\\u0432\\u044b\\u0435 \\u043b\\u044c\\u0434\\u044b (\\u043f\\u043e\\u043a\\u0440\\u043e\\u0432\\u043d\\u044b\\u0435 \\u2014 \\u043d\\u0430 \\u0430\\u0440\\u043a\\u0442\\u0438\\u0447\\u0435\\u0441\\u043a\\u0438\\u0445 \\u043e\\u0441\\u0442\\u0440\\u043e\\u0432\\u0430\\u0445, \\u0433\\u043e\\u0440\\u043d\\u044b\\u0435 \\u2014 \\u0432 \\u043b\\u0435\\u0434\\u043d\\u0438\\u043a\\u0430\\u0445). \\u0440\\u0435\\u043a\\u0438 \\u0441\\u0435\\u0432\\u0435\\u0440\\u043d\\u043e\\u0433\\u043e \\u043b\\u0435\\u0434\\u043e\\u0432\\u0438\\u0442\\u043e\\u0433\\u043e \\u043e\\u043a\\u0435\\u0430\\u043d\\u0430 (\\u043f\\u0435\\u0447\\u043e\\u0440\\u0430, \\u043e\\u0431\\u044c, \\u0435\\u043d\\u0438\\u0441\\u0435\\u0439, \\u043b\\u0435\\u043d\\u0430 \\u0438 \\u0434\\u0440.) \\u0438\\u043c\\u0435\\u044e\\u0442 \\u0441\\u043c\\u0435\\u0448\\u0430\\u043d\\u043d\\u043e\\u0435 \\u043f\\u0438\\u0442\\u0430\\u043d\\u0438\\u0435 \\u0441 \\u043f\\u0440\\u0435\\u043e\\u0431\\u043b\\u0430\\u0434\\u0430\\u043d\\u0438\\u0435\\u043c \\u0441\\u043d\\u0435\\u0433\\u043e\\u0432\\u043e\\u0433\\u043e \\u0438 \\u043d\\u0430\\u0434\\u043e\\u043b\\u0433\\u043e \\u0437\\u0430\\u043c\\u0435\\u0440\\u0437\\u0430\\u044e\\u0442. \\u043c\\u043d\\u043e\\u0433\\u0438\\u0435 \\u0440\\u0435\\u043a\\u0438, \\u0432\\u043f\\u0430\\u0434\\u0430\\u044e\\u0449\\u0438\\u0435 \\u0432 \\u0430\\u0442\\u043b\\u0430\\u043d\\u0442\\u0438\\u0447\\u0435\\u0441\\u043a\\u0438\\u0439 \\u043e\\u043a\\u0435\\u0430\\u043d, \\u043d\\u0435 \\u0437\\u0430\\u043c\\u0435\\u0440\\u0437\\u0430\\u044e\\u0442, \\u043f\\u0438\\u0442\\u0430\\u043d\\u0438\\u0435 \\u0443 \\u043d\\u0438\\u0445 \\u0432 \\u043e\\u0441\\u043d\\u043e\\u0432\\u043d\\u043e\\u043c \\u0434\\u043e\\u0436\\u0434\\u0435\\u0432\\u043e\\u0435, \\u0432 \\u0433\\u043e\\u0440\\u0430\\u0445 \\u2014 \\u043b\\u0435\\u0434\\u043d\\u0438\\u043a\\u043e\\u0432\\u043e\\u0435, \\u043e\\u043d\\u0438 \\u043f\\u043e\\u043b\\u043d\\u043e\\u0432\\u043e\\u0434\\u043d\\u044b \\u0432\\u0435\\u0441\\u044c \\u0433\\u043e\\u0434. \\u043d\\u0430\\u0438\\u0431\\u043e\\u043b\\u0435\\u0435 \\u043a\\u0440\\u0443\\u043f\\u043d\\u044b\\u0435 \\u0440\\u0435\\u043a\\u0438 \\u044d\\u0442\\u043e\\u0433\\u043e \\u0431\\u0430\\u0441\\u0441\\u0435\\u0439\\u043d\\u0430 \\u2014 \\u0434\\u0443\\u043d\\u0430\\u0439, \\u0440\\u0435\\u0439\\u043d, \\u044d\\u043b\\u044c\\u0431\\u0430, \\u043d\\u0435\\u043c\\u0430\\u043d \\u0438 \\u0434\\u0440. \\u0440\\u0435\\u043a\\u0438 \\u0431\\u0430\\u0441\\u0441\\u0435\\u0439\\u043d\\u0430 \\u0442\\u0438\\u0445\\u043e\\u0433\\u043e \\u043e\\u043a\\u0435\\u0430\\u043d\\u0430 \\u0438\\u043c\\u0435\\u044e\\u0442 \\u0441\\u043c\\u0435\\u0448\\u0430\\u043d\\u043d\\u043e\\u0435 \\u043f\\u0438\\u0442\\u0430\\u043d\\u0438\\u0435, \\u0432 \\u043a\\u043e\\u0442\\u043e\\u0440\\u043e\\u043c \\u0437\\u043d\\u0430\\u0447\\u0438\\u0442\\u0435\\u043b\\u044c\\u043d\\u0443\\u044e \\u0440\\u043e\\u043b\\u044c \\u0438\\u0433\\u0440\\u0430\\u044e\\u0442 \\u0434\\u043e\\u0436\\u0434\\u0438, \\u043f\\u0440\\u0438\\u043d\\u043e\\u0441\\u0438\\u043c\\u044b\\u0435 \\u043b\\u0435\\u0442\\u043d\\u0438\\u043c\\u0438 \\u043c\\u0443\\u0441\\u0441\\u043e\\u043d\\u0430\\u043c\\u0438 \\u0441 \\u043e\\u043a\\u0435\\u0430\\u043d\\u0430. \\u0437\\u0434\\u0435\\u0441\\u044c \\u0442\\u0435\\u043a\\u0443\\u0442 \\u0441\\u0430\\u043c\\u0430\\u044f \\u043a\\u0440\\u0443\\u043f\\u043d\\u0430\\u044f \\u0440\\u0435\\u043a\\u0430 \\u0435\\u0432\\u0440\\u0430\\u0437\\u0438\\u0438 \\u2014 \\u044f\\u043d\\u0446\\u0437\\u044b \\u0438 \\u0442\\u0430\\u043a\\u0438\\u0435 \\u0440\\u0435\\u043a\\u0438, \\u043a\\u0430\\u043a \\u0430\\u043c\\u0443\\u0440, \\u0445\\u0443\\u0430\\u043d\\u0445\\u044d, \\u043c\\u0435\\u043a\\u043e\\u043d\\u0433. \\u0432 \\u0438\\u043d\\u0434\\u0438\\u0439\\u0441\\u043a\\u0438\\u0439 \\u043e\\u043a\\u0435\\u0430\\u043d \\u043d\\u0435\\u0441\\u0443\\u0442 \\u0441\\u0432\\u043e\\u0438 \\u0432\\u043e\\u0434\\u044b \\u0433\\u0430\\u043d\\u0433 \\u0441 \\u0431\\u0440\\u0430\\u0445\\u043c\\u0430\\u043f\\u0443\\u0442\\u0440\\u043e\\u0439, \\u0438\\u043d\\u0434, \\u0442\\u0438\\u0433\\u0440, \\u0433\\u0430\\u043d\\u0433 \\u0438 \\u0435\\u0432\\u0444\\u0440\\u0430\\u0442. \\u043f\\u0435\\u0440\\u0432\\u044b\\u0435 \\u0442\\u0440\\u0438 \\u0438\\u0437 \\u043d\\u0438\\u0445 \\u043d\\u0430\\u0447\\u0438\\u043d\\u0430\\u044e\\u0442\\u0441\\u044f \\u0432 \\u0433\\u0438\\u043c\\u0430\\u043b\\u0430\\u044f\\u0445, \\u0437\\u0430\\u0442\\u0435\\u043c \\u0442\\u0435\\u043a\\u0443\\u0442 \\u043f\\u043e \\u0440\\u0430\\u0432\\u043d\\u0438\\u043d\\u0430\\u043c, \\u043e\\u0440\\u043e\\u0448\\u0430\\u044f \\u0438\\u0445. \\u0440\\u0435\\u0436\\u0438\\u043c \\u0440\\u0435\\u043a \\u0441\\u0432\\u044f\\u0437\\u0430\\u043d \\u0441 \\u0442\\u0430\\u044f\\u043d\\u0438\\u0435\\u043c \\u043b\\u044c\\u0434\\u043e\\u043c \\u0438 \\u0441\\u043d\\u0435\\u0433\\u043e\\u043c \\u0432 \\u0433\\u043e\\u0440\\u0430\\u0445 \\u043c\\u0443\\u0441\\u0441\\u043e\\u043d\\u0430\\u043c\\u0438.\"\n        ],\n        \"semantic_type\": \"\",\n        \"description\": \"\"\n      }\n    },\n    {\n      \"column\": \"questions_answers\",\n      \"properties\": {\n        \"dtype\": \"string\",\n        \"num_unique_values\": 10407,\n        \"samples\": [\n          \"question: \\u041a \\u0447\\u0435\\u043c\\u0443 \\u043f\\u0440\\u0438\\u0432\\u043e\\u0434\\u0438\\u0442 \\u0441\\u0438\\u043b\\u044c\\u043d\\u0430\\u044f \\u0442\\u0443\\u0440\\u0431\\u0443\\u043b\\u0435\\u043d\\u0442\\u043d\\u043e\\u0441\\u0442\\u044c?, answer: \\u043a \\u043e\\u0431\\u0440\\u0430\\u0437\\u043e\\u0432\\u0430\\u043d\\u0438\\u044e \\u043c\\u043d\\u043e\\u0433\\u043e\\u0447\\u0438\\u0441\\u043b\\u0435\\u043d\\u043d\\u044b\\u0445 \\u0432\\u0438\\u0445\\u0440\\u0435\\u0432\\u044b\\u0445 \\u0441\\u0442\\u0440\\u0443\\u043a\\u0442\\u0443\\u0440 | question: \\u0427\\u0442\\u043e \\u043d\\u0430\\u0431\\u043b\\u044e\\u0434\\u0430\\u0435\\u0442\\u0441\\u044f \\u043d\\u0430 \\u0433\\u0440\\u0430\\u043d\\u0438\\u0446\\u0430\\u0445 \\u043f\\u043e\\u044f\\u0441\\u043e\\u0432 \\u0438 \\u0437\\u043e\\u043d?, answer: \\u0441\\u0438\\u043b\\u044c\\u043d\\u0430\\u044f \\u0442\\u0443\\u0440\\u0431\\u0443\\u043b\\u0435\\u043d\\u0442\\u043d\\u043e\\u0441\\u0442\\u044c | question: \\u041a\\u0430\\u043a\\u043e\\u0435 \\u0434\\u0430\\u0432\\u043b\\u0435\\u043d\\u0438\\u0435 \\u043e\\u0442\\u043c\\u0435\\u0447\\u0430\\u0435\\u0442\\u0441\\u044f \\u0432 \\u043e\\u0431\\u043b\\u0430\\u0441\\u0442\\u0438 \\u0441\\u0432\\u0435\\u0442\\u043b\\u044b\\u0445 \\u0437\\u043e\\u043d?, answer: \\u043f\\u043e\\u0432\\u044b\\u0448\\u0435\\u043d\\u043d\\u043e\\u0435 | question: \\u0412 \\u0432\\u0438\\u0434\\u0435 \\u0447\\u0435\\u0433\\u043e \\u043f\\u0440\\u043e\\u044f\\u0432\\u043b\\u044f\\u044e\\u0442\\u0441\\u044f \\u043a\\u043e\\u043d\\u0432\\u0435\\u043a\\u0442\\u0438\\u0432\\u043d\\u044b\\u0435 \\u043f\\u043e\\u0442\\u043e\\u043a\\u0438, \\u0432\\u044b\\u043d\\u043e\\u0441\\u044f\\u0449\\u0438\\u0435 \\u0432\\u043d\\u0443\\u0442\\u0440\\u0435\\u043d\\u043d\\u0435\\u0435 \\u0442\\u0435\\u043f\\u043b\\u043e \\u043a \\u043f\\u043e\\u0432\\u0435\\u0440\\u0445\\u043d\\u043e\\u0441\\u0442\\u0438?, answer: \\u0441\\u0432\\u0435\\u0442\\u043b\\u044b\\u0445 \\u0437\\u043e\\u043d \\u0438 \\u0442\\u0451\\u043c\\u043d\\u044b\\u0445 \\u043f\\u043e\\u044f\\u0441\\u043e\\u0432\",\n          \"question: \\u043d\\u0430 \\u0447\\u0435\\u043c\\u043f\\u0438\\u043e\\u043d\\u0430\\u0442\\u0430\\u0445 \\u043c\\u0438\\u0440\\u0430 \\u043a\\u0430\\u043a\\u0438\\u0445 \\u0433\\u043e\\u0434\\u043e\\u0432 \\u041f\\u0435\\u043b\\u0435 \\u043d\\u0435 \\u0441\\u043c\\u043e\\u0433 \\u043f\\u0440\\u043e\\u044f\\u0432\\u0438\\u0442\\u044c \\u0441\\u0435\\u0431\\u044f \\u043d\\u0430 \\u043f\\u043e\\u043b\\u0435?, answer: 1962 \\u0438 1966 | question: \\u041f\\u043e\\u0441\\u043b\\u0435 \\u0447\\u0435\\u0433\\u043e \\u041f\\u0435\\u043b\\u0435 \\u0441\\u0442\\u0430\\u043b \\u0435\\u0434\\u0438\\u043d\\u0441\\u0442\\u0432\\u0435\\u043d\\u043d\\u044b\\u043c \\u0432 \\u0438\\u0441\\u0442\\u043e\\u0440\\u0438\\u0438 \\u0442\\u0440\\u0438\\u0436\\u0434\\u044b \\u0447\\u0435\\u043c\\u043f\\u0438\\u043e\\u043d\\u043e\\u043c \\u043c\\u0438\\u0440\\u0430 \\u043f\\u043e \\u0444\\u0443\\u0442\\u0431\\u043e\\u043b\\u0443?, answer: \\u043f\\u043e\\u0441\\u043b\\u0435 \\u043f\\u043e\\u0431\\u0435\\u0434\\u044b \\u0441\\u0431\\u043e\\u0440\\u043d\\u043e\\u0439 \\u0432 \\u041c\\u0435\\u043a\\u0441\\u0438\\u043a\\u0435\",\n          \"question: \\u041f\\u043e\\u0434 \\u043a\\u0430\\u043a\\u043e\\u0439 \\u0440\\u0430\\u0432\\u043d\\u0438\\u043d\\u043e\\u0439 \\u043e\\u0431\\u043d\\u0430\\u0440\\u0443\\u0436\\u0435\\u043d\\u044b \\u0431\\u043e\\u043b\\u044c\\u0448\\u0438\\u0435 \\u0437\\u0430\\u043f\\u0430\\u0441\\u044b \\u043f\\u043e\\u0434\\u0437\\u0435\\u043c\\u043d\\u044b\\u0445 \\u0432\\u043e\\u0434?, answer: \\u043f\\u043e\\u0434 \\u0437\\u0430\\u043f\\u0430\\u0434\\u043d\\u043e-\\u0441\\u0438\\u0431\\u0438\\u0440\\u0441\\u043a\\u043e\\u0439\"\n        ],\n        \"semantic_type\": \"\",\n        \"description\": \"\"\n      }\n    },\n    {\n      \"column\": \"id\",\n      \"properties\": {\n        \"dtype\": \"number\",\n        \"std\": 3004,\n        \"min\": 0,\n        \"max\": 10406,\n        \"num_unique_values\": 10407,\n        \"samples\": [\n          3952,\n          4597,\n          9621\n        ],\n        \"semantic_type\": \"\",\n        \"description\": \"\"\n      }\n    }\n  ]\n}"
            }
          },
          "metadata": {},
          "execution_count": 4
        }
      ]
    },
    {
      "cell_type": "code",
      "source": [
        "data = data.head(1000)"
      ],
      "metadata": {
        "id": "xJEwq_H7Fdas"
      },
      "execution_count": 5,
      "outputs": []
    },
    {
      "cell_type": "code",
      "source": [
        "data[\"answers\"] = data[\"answers\"].apply(lambda x: x[0])\n",
        "data[\"questions\"] = data[\"questions\"].apply(lambda x: x[0])"
      ],
      "metadata": {
        "colab": {
          "base_uri": "https://localhost:8080/"
        },
        "id": "Cy7-meylGVkL",
        "outputId": "ed88bfd8-4c26-4977-b8bf-ab7a6d2bf9bc"
      },
      "execution_count": 6,
      "outputs": [
        {
          "output_type": "stream",
          "name": "stderr",
          "text": [
            "<ipython-input-6-725e95b9e414>:1: SettingWithCopyWarning: \n",
            "A value is trying to be set on a copy of a slice from a DataFrame.\n",
            "Try using .loc[row_indexer,col_indexer] = value instead\n",
            "\n",
            "See the caveats in the documentation: https://pandas.pydata.org/pandas-docs/stable/user_guide/indexing.html#returning-a-view-versus-a-copy\n",
            "  data[\"answers\"] = data[\"answers\"].apply(lambda x: x[0])\n",
            "<ipython-input-6-725e95b9e414>:2: SettingWithCopyWarning: \n",
            "A value is trying to be set on a copy of a slice from a DataFrame.\n",
            "Try using .loc[row_indexer,col_indexer] = value instead\n",
            "\n",
            "See the caveats in the documentation: https://pandas.pydata.org/pandas-docs/stable/user_guide/indexing.html#returning-a-view-versus-a-copy\n",
            "  data[\"questions\"] = data[\"questions\"].apply(lambda x: x[0])\n"
          ]
        }
      ]
    },
    {
      "cell_type": "code",
      "source": [
        "data.head(10)"
      ],
      "metadata": {
        "colab": {
          "base_uri": "https://localhost:8080/",
          "height": 363
        },
        "id": "OBM7k9lZHFK5",
        "outputId": "2d118aec-1fbf-4b06-b415-a4e33b90f585"
      },
      "execution_count": 7,
      "outputs": [
        {
          "output_type": "execute_result",
          "data": {
            "text/plain": [
              "                           answers  \\\n",
              "0                      При нулевом   \n",
              "1                           Дилана   \n",
              "2  Манитобский театр юного зрителя   \n",
              "3              около 50 персонажей   \n",
              "4                   самодисциплины   \n",
              "5                         Котиаион   \n",
              "6                             1986   \n",
              "7                 с военной жизнью   \n",
              "8                      власть воли   \n",
              "9                       два сезона   \n",
              "\n",
              "                                           questions  \\\n",
              "0  При каком бюджете на раскрутку фото певицы реш...   \n",
              "1  По чьему примеру битлы стали экспериментироват...   \n",
              "2  Как называется первый англоязычный театр, полу...   \n",
              "3  Сколько персонажей на фреске Афинская школа Ра...   \n",
              "4  Посредством чего можно усмирить пламя желаний ...   \n",
              "5  Как на греческом языке в то время называлось у...   \n",
              "6  В каком году вышел рок-музыкальный фильм Абсол...   \n",
              "7  С чем часто сравнивает поэт подробности землед...   \n",
              "8                   Какое понятие ввел А.Ф. Самойлов   \n",
              "9  Сколько сезонов включает в себя Звёздный путь:...   \n",
              "\n",
              "                                           paragraph  \\\n",
              "0   Everybody , как и хотела Мадонна, выпускают с...   \n",
              "1   Freewheelin’ Bob Dylan произвёл большое впеча...   \n",
              "2   Le Cercle Molière — старейший (основан в 1925...   \n",
              "3   Афинская школа — блестяще выполненная многофи...   \n",
              "4   Бхагавадгита описывает йогу как контроль ума,...   \n",
              "5   В этой области много многолюдных поселков. Из...   \n",
              "6   Весёлого Рождества, мистер Лоуренс произвёл в...   \n",
              "7   Георгики считаются самым совершенным произвед...   \n",
              "8   Жизнь — это замкнутый круг рефлекторной деяте...   \n",
              "9   Звёздный путь: Анимационный сериал (англ. Sta...   \n",
              "\n",
              "                                   questions_answers  id  \n",
              "0  question: При каком бюджете на раскрутку фото ...   0  \n",
              "1  question: По чьему примеру битлы стали экспери...   1  \n",
              "2  question: Как называется первый англоязычный т...   2  \n",
              "3  question: Сколько персонажей на фреске Афинска...   3  \n",
              "4  question: Посредством чего можно усмирить плам...   4  \n",
              "5  question: Как на греческом языке в то время на...   5  \n",
              "6  question: В каком году вышел рок-музыкальный ф...   6  \n",
              "7  question: С чем часто сравнивает поэт подробно...   7  \n",
              "8  question: Какое понятие ввел А.Ф. Самойлов, an...   8  \n",
              "9  question: Сколько сезонов включает в себя Звёз...   9  "
            ],
            "text/html": [
              "\n",
              "  <div id=\"df-6332ef1b-58ac-487b-bbb5-ffb8acdb9fe6\" class=\"colab-df-container\">\n",
              "    <div>\n",
              "<style scoped>\n",
              "    .dataframe tbody tr th:only-of-type {\n",
              "        vertical-align: middle;\n",
              "    }\n",
              "\n",
              "    .dataframe tbody tr th {\n",
              "        vertical-align: top;\n",
              "    }\n",
              "\n",
              "    .dataframe thead th {\n",
              "        text-align: right;\n",
              "    }\n",
              "</style>\n",
              "<table border=\"1\" class=\"dataframe\">\n",
              "  <thead>\n",
              "    <tr style=\"text-align: right;\">\n",
              "      <th></th>\n",
              "      <th>answers</th>\n",
              "      <th>questions</th>\n",
              "      <th>paragraph</th>\n",
              "      <th>questions_answers</th>\n",
              "      <th>id</th>\n",
              "    </tr>\n",
              "  </thead>\n",
              "  <tbody>\n",
              "    <tr>\n",
              "      <th>0</th>\n",
              "      <td>При нулевом</td>\n",
              "      <td>При каком бюджете на раскрутку фото певицы реш...</td>\n",
              "      <td>Everybody , как и хотела Мадонна, выпускают с...</td>\n",
              "      <td>question: При каком бюджете на раскрутку фото ...</td>\n",
              "      <td>0</td>\n",
              "    </tr>\n",
              "    <tr>\n",
              "      <th>1</th>\n",
              "      <td>Дилана</td>\n",
              "      <td>По чьему примеру битлы стали экспериментироват...</td>\n",
              "      <td>Freewheelin’ Bob Dylan произвёл большое впеча...</td>\n",
              "      <td>question: По чьему примеру битлы стали экспери...</td>\n",
              "      <td>1</td>\n",
              "    </tr>\n",
              "    <tr>\n",
              "      <th>2</th>\n",
              "      <td>Манитобский театр юного зрителя</td>\n",
              "      <td>Как называется первый англоязычный театр, полу...</td>\n",
              "      <td>Le Cercle Molière — старейший (основан в 1925...</td>\n",
              "      <td>question: Как называется первый англоязычный т...</td>\n",
              "      <td>2</td>\n",
              "    </tr>\n",
              "    <tr>\n",
              "      <th>3</th>\n",
              "      <td>около 50 персонажей</td>\n",
              "      <td>Сколько персонажей на фреске Афинская школа Ра...</td>\n",
              "      <td>Афинская школа — блестяще выполненная многофи...</td>\n",
              "      <td>question: Сколько персонажей на фреске Афинска...</td>\n",
              "      <td>3</td>\n",
              "    </tr>\n",
              "    <tr>\n",
              "      <th>4</th>\n",
              "      <td>самодисциплины</td>\n",
              "      <td>Посредством чего можно усмирить пламя желаний ...</td>\n",
              "      <td>Бхагавадгита описывает йогу как контроль ума,...</td>\n",
              "      <td>question: Посредством чего можно усмирить плам...</td>\n",
              "      <td>4</td>\n",
              "    </tr>\n",
              "    <tr>\n",
              "      <th>5</th>\n",
              "      <td>Котиаион</td>\n",
              "      <td>Как на греческом языке в то время называлось у...</td>\n",
              "      <td>В этой области много многолюдных поселков. Из...</td>\n",
              "      <td>question: Как на греческом языке в то время на...</td>\n",
              "      <td>5</td>\n",
              "    </tr>\n",
              "    <tr>\n",
              "      <th>6</th>\n",
              "      <td>1986</td>\n",
              "      <td>В каком году вышел рок-музыкальный фильм Абсол...</td>\n",
              "      <td>Весёлого Рождества, мистер Лоуренс произвёл в...</td>\n",
              "      <td>question: В каком году вышел рок-музыкальный ф...</td>\n",
              "      <td>6</td>\n",
              "    </tr>\n",
              "    <tr>\n",
              "      <th>7</th>\n",
              "      <td>с военной жизнью</td>\n",
              "      <td>С чем часто сравнивает поэт подробности землед...</td>\n",
              "      <td>Георгики считаются самым совершенным произвед...</td>\n",
              "      <td>question: С чем часто сравнивает поэт подробно...</td>\n",
              "      <td>7</td>\n",
              "    </tr>\n",
              "    <tr>\n",
              "      <th>8</th>\n",
              "      <td>власть воли</td>\n",
              "      <td>Какое понятие ввел А.Ф. Самойлов</td>\n",
              "      <td>Жизнь — это замкнутый круг рефлекторной деяте...</td>\n",
              "      <td>question: Какое понятие ввел А.Ф. Самойлов, an...</td>\n",
              "      <td>8</td>\n",
              "    </tr>\n",
              "    <tr>\n",
              "      <th>9</th>\n",
              "      <td>два сезона</td>\n",
              "      <td>Сколько сезонов включает в себя Звёздный путь:...</td>\n",
              "      <td>Звёздный путь: Анимационный сериал (англ. Sta...</td>\n",
              "      <td>question: Сколько сезонов включает в себя Звёз...</td>\n",
              "      <td>9</td>\n",
              "    </tr>\n",
              "  </tbody>\n",
              "</table>\n",
              "</div>\n",
              "    <div class=\"colab-df-buttons\">\n",
              "\n",
              "  <div class=\"colab-df-container\">\n",
              "    <button class=\"colab-df-convert\" onclick=\"convertToInteractive('df-6332ef1b-58ac-487b-bbb5-ffb8acdb9fe6')\"\n",
              "            title=\"Convert this dataframe to an interactive table.\"\n",
              "            style=\"display:none;\">\n",
              "\n",
              "  <svg xmlns=\"http://www.w3.org/2000/svg\" height=\"24px\" viewBox=\"0 -960 960 960\">\n",
              "    <path d=\"M120-120v-720h720v720H120Zm60-500h600v-160H180v160Zm220 220h160v-160H400v160Zm0 220h160v-160H400v160ZM180-400h160v-160H180v160Zm440 0h160v-160H620v160ZM180-180h160v-160H180v160Zm440 0h160v-160H620v160Z\"/>\n",
              "  </svg>\n",
              "    </button>\n",
              "\n",
              "  <style>\n",
              "    .colab-df-container {\n",
              "      display:flex;\n",
              "      gap: 12px;\n",
              "    }\n",
              "\n",
              "    .colab-df-convert {\n",
              "      background-color: #E8F0FE;\n",
              "      border: none;\n",
              "      border-radius: 50%;\n",
              "      cursor: pointer;\n",
              "      display: none;\n",
              "      fill: #1967D2;\n",
              "      height: 32px;\n",
              "      padding: 0 0 0 0;\n",
              "      width: 32px;\n",
              "    }\n",
              "\n",
              "    .colab-df-convert:hover {\n",
              "      background-color: #E2EBFA;\n",
              "      box-shadow: 0px 1px 2px rgba(60, 64, 67, 0.3), 0px 1px 3px 1px rgba(60, 64, 67, 0.15);\n",
              "      fill: #174EA6;\n",
              "    }\n",
              "\n",
              "    .colab-df-buttons div {\n",
              "      margin-bottom: 4px;\n",
              "    }\n",
              "\n",
              "    [theme=dark] .colab-df-convert {\n",
              "      background-color: #3B4455;\n",
              "      fill: #D2E3FC;\n",
              "    }\n",
              "\n",
              "    [theme=dark] .colab-df-convert:hover {\n",
              "      background-color: #434B5C;\n",
              "      box-shadow: 0px 1px 3px 1px rgba(0, 0, 0, 0.15);\n",
              "      filter: drop-shadow(0px 1px 2px rgba(0, 0, 0, 0.3));\n",
              "      fill: #FFFFFF;\n",
              "    }\n",
              "  </style>\n",
              "\n",
              "    <script>\n",
              "      const buttonEl =\n",
              "        document.querySelector('#df-6332ef1b-58ac-487b-bbb5-ffb8acdb9fe6 button.colab-df-convert');\n",
              "      buttonEl.style.display =\n",
              "        google.colab.kernel.accessAllowed ? 'block' : 'none';\n",
              "\n",
              "      async function convertToInteractive(key) {\n",
              "        const element = document.querySelector('#df-6332ef1b-58ac-487b-bbb5-ffb8acdb9fe6');\n",
              "        const dataTable =\n",
              "          await google.colab.kernel.invokeFunction('convertToInteractive',\n",
              "                                                    [key], {});\n",
              "        if (!dataTable) return;\n",
              "\n",
              "        const docLinkHtml = 'Like what you see? Visit the ' +\n",
              "          '<a target=\"_blank\" href=https://colab.research.google.com/notebooks/data_table.ipynb>data table notebook</a>'\n",
              "          + ' to learn more about interactive tables.';\n",
              "        element.innerHTML = '';\n",
              "        dataTable['output_type'] = 'display_data';\n",
              "        await google.colab.output.renderOutput(dataTable, element);\n",
              "        const docLink = document.createElement('div');\n",
              "        docLink.innerHTML = docLinkHtml;\n",
              "        element.appendChild(docLink);\n",
              "      }\n",
              "    </script>\n",
              "  </div>\n",
              "\n",
              "\n",
              "<div id=\"df-87676fdd-712a-455c-b34e-fcfe6b4b5f88\">\n",
              "  <button class=\"colab-df-quickchart\" onclick=\"quickchart('df-87676fdd-712a-455c-b34e-fcfe6b4b5f88')\"\n",
              "            title=\"Suggest charts\"\n",
              "            style=\"display:none;\">\n",
              "\n",
              "<svg xmlns=\"http://www.w3.org/2000/svg\" height=\"24px\"viewBox=\"0 0 24 24\"\n",
              "     width=\"24px\">\n",
              "    <g>\n",
              "        <path d=\"M19 3H5c-1.1 0-2 .9-2 2v14c0 1.1.9 2 2 2h14c1.1 0 2-.9 2-2V5c0-1.1-.9-2-2-2zM9 17H7v-7h2v7zm4 0h-2V7h2v10zm4 0h-2v-4h2v4z\"/>\n",
              "    </g>\n",
              "</svg>\n",
              "  </button>\n",
              "\n",
              "<style>\n",
              "  .colab-df-quickchart {\n",
              "      --bg-color: #E8F0FE;\n",
              "      --fill-color: #1967D2;\n",
              "      --hover-bg-color: #E2EBFA;\n",
              "      --hover-fill-color: #174EA6;\n",
              "      --disabled-fill-color: #AAA;\n",
              "      --disabled-bg-color: #DDD;\n",
              "  }\n",
              "\n",
              "  [theme=dark] .colab-df-quickchart {\n",
              "      --bg-color: #3B4455;\n",
              "      --fill-color: #D2E3FC;\n",
              "      --hover-bg-color: #434B5C;\n",
              "      --hover-fill-color: #FFFFFF;\n",
              "      --disabled-bg-color: #3B4455;\n",
              "      --disabled-fill-color: #666;\n",
              "  }\n",
              "\n",
              "  .colab-df-quickchart {\n",
              "    background-color: var(--bg-color);\n",
              "    border: none;\n",
              "    border-radius: 50%;\n",
              "    cursor: pointer;\n",
              "    display: none;\n",
              "    fill: var(--fill-color);\n",
              "    height: 32px;\n",
              "    padding: 0;\n",
              "    width: 32px;\n",
              "  }\n",
              "\n",
              "  .colab-df-quickchart:hover {\n",
              "    background-color: var(--hover-bg-color);\n",
              "    box-shadow: 0 1px 2px rgba(60, 64, 67, 0.3), 0 1px 3px 1px rgba(60, 64, 67, 0.15);\n",
              "    fill: var(--button-hover-fill-color);\n",
              "  }\n",
              "\n",
              "  .colab-df-quickchart-complete:disabled,\n",
              "  .colab-df-quickchart-complete:disabled:hover {\n",
              "    background-color: var(--disabled-bg-color);\n",
              "    fill: var(--disabled-fill-color);\n",
              "    box-shadow: none;\n",
              "  }\n",
              "\n",
              "  .colab-df-spinner {\n",
              "    border: 2px solid var(--fill-color);\n",
              "    border-color: transparent;\n",
              "    border-bottom-color: var(--fill-color);\n",
              "    animation:\n",
              "      spin 1s steps(1) infinite;\n",
              "  }\n",
              "\n",
              "  @keyframes spin {\n",
              "    0% {\n",
              "      border-color: transparent;\n",
              "      border-bottom-color: var(--fill-color);\n",
              "      border-left-color: var(--fill-color);\n",
              "    }\n",
              "    20% {\n",
              "      border-color: transparent;\n",
              "      border-left-color: var(--fill-color);\n",
              "      border-top-color: var(--fill-color);\n",
              "    }\n",
              "    30% {\n",
              "      border-color: transparent;\n",
              "      border-left-color: var(--fill-color);\n",
              "      border-top-color: var(--fill-color);\n",
              "      border-right-color: var(--fill-color);\n",
              "    }\n",
              "    40% {\n",
              "      border-color: transparent;\n",
              "      border-right-color: var(--fill-color);\n",
              "      border-top-color: var(--fill-color);\n",
              "    }\n",
              "    60% {\n",
              "      border-color: transparent;\n",
              "      border-right-color: var(--fill-color);\n",
              "    }\n",
              "    80% {\n",
              "      border-color: transparent;\n",
              "      border-right-color: var(--fill-color);\n",
              "      border-bottom-color: var(--fill-color);\n",
              "    }\n",
              "    90% {\n",
              "      border-color: transparent;\n",
              "      border-bottom-color: var(--fill-color);\n",
              "    }\n",
              "  }\n",
              "</style>\n",
              "\n",
              "  <script>\n",
              "    async function quickchart(key) {\n",
              "      const quickchartButtonEl =\n",
              "        document.querySelector('#' + key + ' button');\n",
              "      quickchartButtonEl.disabled = true;  // To prevent multiple clicks.\n",
              "      quickchartButtonEl.classList.add('colab-df-spinner');\n",
              "      try {\n",
              "        const charts = await google.colab.kernel.invokeFunction(\n",
              "            'suggestCharts', [key], {});\n",
              "      } catch (error) {\n",
              "        console.error('Error during call to suggestCharts:', error);\n",
              "      }\n",
              "      quickchartButtonEl.classList.remove('colab-df-spinner');\n",
              "      quickchartButtonEl.classList.add('colab-df-quickchart-complete');\n",
              "    }\n",
              "    (() => {\n",
              "      let quickchartButtonEl =\n",
              "        document.querySelector('#df-87676fdd-712a-455c-b34e-fcfe6b4b5f88 button');\n",
              "      quickchartButtonEl.style.display =\n",
              "        google.colab.kernel.accessAllowed ? 'block' : 'none';\n",
              "    })();\n",
              "  </script>\n",
              "</div>\n",
              "    </div>\n",
              "  </div>\n"
            ],
            "application/vnd.google.colaboratory.intrinsic+json": {
              "type": "dataframe",
              "variable_name": "data",
              "summary": "{\n  \"name\": \"data\",\n  \"rows\": 1000,\n  \"fields\": [\n    {\n      \"column\": \"answers\",\n      \"properties\": {\n        \"dtype\": \"string\",\n        \"num_unique_values\": 991,\n        \"samples\": [\n          \"\\u0430\\u0433\\u0440\\u043e\\u0446\\u0435\\u043d\\u043e\\u0437\\u0430\\u043c\\u0438.\",\n          \"\\u041b\\u0430\\u043e\\u0434\\u0438\\u043a\\u0435\\u044e \\u0438 \\u0425\\u043e\\u043d\\u044b \\u0441 \\u0434\\u0432\\u0443\\u043c\\u044f \\u043a\\u0440\\u0435\\u043f\\u043e\\u0441\\u0442\\u044f\\u043c\\u0438\",\n          \"\\u0433\\u0430\\u043c\\u0435\\u0442\\u043e\\u0444\\u0438\\u0442 \\u0438 \\u0441\\u043f\\u043e\\u0440\\u043e\\u0444\\u0438\\u0442\"\n        ],\n        \"semantic_type\": \"\",\n        \"description\": \"\"\n      }\n    },\n    {\n      \"column\": \"questions\",\n      \"properties\": {\n        \"dtype\": \"string\",\n        \"num_unique_values\": 1000,\n        \"samples\": [\n          \"\\u0421\\u043a\\u043e\\u043b\\u044c\\u043a\\u043e \\u0440\\u0430\\u0437 \\u0420\\u0435\\u0434\\u0436\\u0438\\u043d\\u0430\\u043b\\u044c\\u0434 \\u0414\\u043e\\u0445\\u0435\\u0440\\u0442\\u0438 \\u0441\\u0442\\u0430\\u043b \\u0447\\u0435\\u043c\\u043f\\u0438\\u043e\\u043d\\u043e\\u043c \\u0441 1897 \\u043f\\u043e 1900 \\u0433\\u043e\\u0434?\",\n          \"\\u0427\\u0435\\u043c \\u043f\\u0440\\u0435\\u0434\\u043b\\u043e\\u0436\\u0438\\u043b \\u0412\\u0438\\u043b\\u043b\\u0438 \\u041a\\u044e\\u043a\\u0435\\u043d\\u0442\\u0430\\u043b\\u044c \\u0437\\u0430\\u043d\\u0438\\u043c\\u0430\\u0442\\u044c\\u0441\\u044f \\u041d\\u0430\\u043d\\u0441\\u0435\\u043d\\u0443?\",\n          \"\\u041a\\u0430\\u043a\\u0443\\u044e \\u0433\\u0438\\u043f\\u043e\\u0442\\u0435\\u0437\\u0443 \\u0432\\u044b\\u0434\\u0432\\u0438\\u043d\\u0443\\u043b \\u0410\\u043b\\u044c\\u0431\\u0435\\u0440\\u0442 \\u042d\\u0439\\u043d\\u0448\\u0442\\u0435\\u0439\\u043d, \\u0447\\u0442\\u043e\\u0431\\u044b \\u043e\\u0431\\u044a\\u044f\\u0441\\u043d\\u0438\\u0442\\u044c \\u043a\\u0432\\u0430\\u043d\\u0442\\u043e\\u0432\\u0443\\u044e \\u0442\\u0435\\u043e\\u0440\\u0438\\u044e?\"\n        ],\n        \"semantic_type\": \"\",\n        \"description\": \"\"\n      }\n    },\n    {\n      \"column\": \"paragraph\",\n      \"properties\": {\n        \"dtype\": \"string\",\n        \"num_unique_values\": 1000,\n        \"samples\": [\n          \"\\u0411\\u0440\\u0430\\u0442\\u044c\\u044f \\u0414\\u043e\\u0445\\u0435\\u0440\\u0442\\u0438, \\u0443\\u0440\\u043e\\u0436\\u0435\\u043d\\u0446\\u044b \\u0423\\u0438\\u043c\\u0431\\u043b\\u0434\\u043e\\u043d\\u0430 \\u0438 \\u0432\\u043e\\u0441\\u043f\\u0438\\u0442\\u0430\\u043d\\u043d\\u0438\\u043a\\u0438 \\u041a\\u0435\\u043c\\u0431\\u0440\\u0438\\u0434\\u0436\\u0430, \\u0432\\u043f\\u0435\\u0440\\u0432\\u044b\\u0435 \\u0441\\u0435\\u0440\\u044c\\u0451\\u0437\\u043d\\u043e \\u0437\\u0430\\u044f\\u0432\\u0438\\u043b\\u0438 \\u043e \\u0441\\u0435\\u0431\\u0435 \\u043d\\u0430 \\u0447\\u0435\\u043c\\u043f\\u0438\\u043e\\u043d\\u0430\\u0442\\u0435 1896 \\u0433\\u043e\\u0434\\u0430. \\u0421\\u0442\\u0430\\u0440\\u0448\\u0438\\u0439 \\u0438\\u0437 \\u043d\\u0438\\u0445, \\u0420\\u0435\\u0434\\u0436\\u0438\\u043d\\u0430\\u043b\\u044c\\u0434, \\u0434\\u043e\\u0448\\u0451\\u043b \\u0434\\u043e \\u0440\\u0430\\u0443\\u043d\\u0434\\u0430 \\u0432\\u044b\\u0437\\u043e\\u0432\\u0430 \\u0432 \\u043f\\u0430\\u0440\\u043d\\u043e\\u043c \\u0440\\u0430\\u0437\\u0440\\u044f\\u0434\\u0435; \\u043c\\u043b\\u0430\\u0434\\u0448\\u0438\\u0439, \\u041b\\u043e\\u0443\\u0440\\u0435\\u043d\\u0441, \\u0432\\u044b\\u0431\\u044b\\u043b \\u0438\\u0437 \\u0431\\u043e\\u0440\\u044c\\u0431\\u044b \\u0432 \\u043e\\u0434\\u0438\\u043d\\u043e\\u0447\\u043d\\u043e\\u043c \\u0440\\u0430\\u0437\\u0440\\u044f\\u0434\\u0435 \\u0434\\u043e\\u0441\\u0442\\u0430\\u0442\\u043e\\u0447\\u043d\\u043e \\u0440\\u0430\\u043d\\u043e, \\u0447\\u0442\\u043e\\u0431\\u044b \\u043f\\u0440\\u0438\\u043d\\u044f\\u0442\\u044c \\u0443\\u0447\\u0430\\u0441\\u0442\\u0438\\u0435 \\u0432 \\u043f\\u0435\\u0440\\u0432\\u043e\\u043c \\u0432 \\u0438\\u0441\\u0442\\u043e\\u0440\\u0438\\u0438 \\u0423\\u0438\\u043c\\u0431\\u043b\\u0434\\u043e\\u043d\\u0430 \\u0443\\u0442\\u0435\\u0448\\u0438\\u0442\\u0435\\u043b\\u044c\\u043d\\u043e\\u043c \\u0442\\u0443\\u0440\\u043d\\u0438\\u0440\\u0435 \\u2014 All-England Plate, \\u0433\\u0434\\u0435 \\u0434\\u043e\\u0448\\u0451\\u043b \\u0434\\u043e \\u0444\\u0438\\u043d\\u0430\\u043b\\u0430, \\u043f\\u0440\\u043e\\u0438\\u0433\\u0440\\u0430\\u0432 \\u0442\\u0430\\u043c \\u0434\\u0440\\u0443\\u0433\\u043e\\u043c\\u0443 \\u0431\\u0443\\u0434\\u0443\\u0449\\u0435\\u043c\\u0443 \\u0433\\u0435\\u0440\\u043e\\u044e \\u0423\\u0438\\u043c\\u0431\\u043b\\u0434\\u043e\\u043d\\u0441\\u043a\\u043e\\u0433\\u043e \\u0442\\u0443\\u0440\\u043d\\u0438\\u0440\\u0430 \\u0410\\u0440\\u0442\\u0443\\u0440\\u0443 \\u0413\\u043e\\u0440\\u0443. \\u0423\\u0436\\u0435 \\u0441\\u043e \\u0441\\u043b\\u0435\\u0434\\u0443\\u044e\\u0449\\u0435\\u0433\\u043e \\u0433\\u043e\\u0434\\u0430 \\u043d\\u0430\\u0447\\u0430\\u043b\\u0441\\u044f \\u0434\\u043b\\u0438\\u043d\\u043d\\u044b\\u0439 \\u043f\\u0435\\u0440\\u0438\\u043e\\u0434 \\u043f\\u0440\\u0430\\u043a\\u0442\\u0438\\u0447\\u0435\\u0441\\u043a\\u0438 \\u0431\\u0435\\u0437\\u0440\\u0430\\u0437\\u0434\\u0435\\u043b\\u044c\\u043d\\u043e\\u0433\\u043e \\u0433\\u043e\\u0441\\u043f\\u043e\\u0434\\u0441\\u0442\\u0432\\u0430 \\u0414\\u043e\\u0445\\u0435\\u0440\\u0442\\u0438 \\u0432 \\u0431\\u0440\\u0438\\u0442\\u0430\\u043d\\u0441\\u043a\\u043e\\u043c \\u043b\\u0430\\u0443\\u043d-\\u0442\\u0435\\u043d\\u043d\\u0438\\u0441\\u0435. \\u0421 1897 \\u043f\\u043e 1900 \\u0433\\u043e\\u0434 \\u0420\\u0435\\u0434\\u0436\\u0438\\u043d\\u0430\\u043b\\u044c\\u0434 \\u0441\\u0442\\u0430\\u043d\\u043e\\u0432\\u0438\\u043b\\u0441\\u044f \\u0447\\u0435\\u043c\\u043f\\u0438\\u043e\\u043d\\u043e\\u043c \\u0423\\u0438\\u043c\\u0431\\u043b\\u0434\\u043e\\u043d\\u0441\\u043a\\u043e\\u0433\\u043e \\u0442\\u0443\\u0440\\u043d\\u0438\\u0440\\u0430 \\u0447\\u0435\\u0442\\u044b\\u0440\\u0435 \\u0440\\u0430\\u0437\\u0430 \\u043f\\u043e\\u0434\\u0440\\u044f\\u0434, \\u0432 \\u0442\\u043e\\u043c \\u0447\\u0438\\u0441\\u043b\\u0435 \\u043e\\u0434\\u0438\\u043d \\u0440\\u0430\\u0437 \\u043e\\u0431\\u044b\\u0433\\u0440\\u0430\\u0432 \\u0432 \\u0440\\u0430\\u0443\\u043d\\u0434\\u0435 \\u0432\\u044b\\u0437\\u043e\\u0432\\u0430 \\u0441\\u043e\\u0431\\u0441\\u0442\\u0432\\u0435\\u043d\\u043d\\u043e\\u0433\\u043e \\u0431\\u0440\\u0430\\u0442\\u0430. \\u0412 1901 \\u0433\\u043e\\u0434\\u0443 \\u043e\\u043d \\u0443\\u0441\\u0442\\u0443\\u043f\\u0438\\u043b \\u0447\\u0435\\u043c\\u043f\\u0438\\u043e\\u043d\\u0441\\u043a\\u0438\\u0439 \\u0442\\u0438\\u0442\\u0443\\u043b \\u0413\\u043e\\u0440\\u0443, \\u043f\\u043e\\u0441\\u043b\\u0435 \\u044d\\u0442\\u043e\\u0433\\u043e \\u0441\\u043e\\u0441\\u0440\\u0435\\u0434\\u043e\\u0442\\u043e\\u0447\\u0438\\u0432\\u0448\\u0438\\u0441\\u044c \\u0438\\u0437-\\u0437\\u0430 \\u0443\\u0445\\u0443\\u0434\\u0448\\u0430\\u044e\\u0449\\u0435\\u0433\\u043e\\u0441\\u044f \\u0437\\u0434\\u043e\\u0440\\u043e\\u0432\\u044c\\u044f \\u0442\\u043e\\u043b\\u044c\\u043a\\u043e \\u043d\\u0430 \\u0438\\u0433\\u0440\\u0435 \\u0432 \\u043f\\u0430\\u0440\\u0430\\u0445, \\u043d\\u043e \\u0443\\u0436\\u0435 \\u0441\\u043e \\u0441\\u043b\\u0435\\u0434\\u0443\\u044e\\u0449\\u0435\\u0433\\u043e \\u0433\\u043e\\u0434\\u0430 \\u043d\\u0430 \\u0423\\u0438\\u043c\\u0431\\u043b\\u0434\\u043e\\u043d\\u0435 \\u0434\\u043e\\u043c\\u0438\\u043d\\u0438\\u0440\\u043e\\u0432\\u0430\\u043b \\u041b\\u043e\\u0443\\u0440\\u0435\\u043d\\u0441, \\u0441\\u0442\\u0430\\u0432\\u0448\\u0438\\u0439 \\u0447\\u0435\\u043c\\u043f\\u0438\\u043e\\u043d\\u043e\\u043c \\u043f\\u044f\\u0442\\u044c \\u0440\\u0430\\u0437 \\u043f\\u043e\\u0434\\u0440\\u044f\\u0434 \\u0438 \\u0443\\u0448\\u0435\\u0434\\u0448\\u0438\\u0439 \\u043d\\u0435\\u043f\\u043e\\u0431\\u0435\\u0436\\u0434\\u0451\\u043d\\u043d\\u044b\\u043c. \\u0417\\u0430 \\u044d\\u0442\\u043e \\u0436\\u0435 \\u0434\\u0435\\u0441\\u044f\\u0442\\u0438\\u043b\\u0435\\u0442\\u0438\\u0435, \\u0441 1897 \\u043f\\u043e 1906 \\u0433\\u043e\\u0434, \\u0420\\u0435\\u0434\\u0436\\u0438\\u043d\\u0430\\u043b\\u044c\\u0434 \\u0438 \\u041b\\u043e\\u0443\\u0440\\u0435\\u043d\\u0441 \\u0432\\u043c\\u0435\\u0441\\u0442\\u0435 \\u0441\\u0435\\u043c\\u044c \\u0440\\u0430\\u0437 \\u0432\\u044b\\u0438\\u0433\\u0440\\u0430\\u043b\\u0438 \\u0447\\u0435\\u043c\\u043f\\u0438\\u043e\\u043d\\u0430\\u0442 \\u043c\\u0443\\u0436\\u0441\\u043a\\u0438\\u0445 \\u043f\\u0430\\u0440[16].\",\n          \"\\u0412 1883 \\u0433\\u043e\\u0434\\u0443 \\u043e\\u043f\\u0440\\u0435\\u0434\\u0435\\u043b\\u044f\\u0435\\u0442\\u0441\\u044f \\u043d\\u0430\\u0443\\u0447\\u043d\\u043e\\u0435 \\u043d\\u0430\\u043f\\u0440\\u0430\\u0432\\u043b\\u0435\\u043d\\u0438\\u0435 \\u0434\\u0435\\u044f\\u0442\\u0435\\u043b\\u044c\\u043d\\u043e\\u0441\\u0442\\u0438 \\u041d\\u0430\\u043d\\u0441\\u0435\\u043d\\u0430. \\u041b\\u0435\\u0442\\u043e\\u043c \\u043e\\u043d \\u043f\\u043e\\u043b\\u0443\\u0447\\u0438\\u043b \\u043e\\u0442 \\u043f\\u0440\\u043e\\u0444\\u0435\\u0441\\u0441\\u043e\\u0440\\u0430 \\u043f\\u0430\\u043b\\u0435\\u043e\\u043d\\u0442\\u043e\\u043b\\u043e\\u0433\\u0438\\u0438 \\u0419\\u0435\\u043b\\u044c\\u0441\\u043a\\u043e\\u0433\\u043e \\u0443\\u043d\\u0438\\u0432\\u0435\\u0440\\u0441\\u0438\\u0442\\u0435\\u0442\\u0430 \\u0427\\u0430\\u0440\\u043b\\u044c\\u0437\\u0430 \\u041c\\u0430\\u0440\\u0448\\u0430 \\u043f\\u0440\\u0438\\u0433\\u043b\\u0430\\u0448\\u0435\\u043d\\u0438\\u0435 \\u0432 \\u0421\\u0428\\u0410, \\u043d\\u043e \\u043e\\u0442\\u043a\\u043b\\u043e\\u043d\\u0438\\u043b \\u0435\\u0433\\u043e, \\u043f\\u043e\\u0441\\u043a\\u043e\\u043b\\u044c\\u043a\\u0443 \\u0411\\u0430\\u043b\\u044c\\u0434\\u0443\\u0440 \\u041d\\u0430\\u043d\\u0441\\u0435\\u043d \\u043d\\u0435\\u0437\\u0430\\u0434\\u043e\\u043b\\u0433\\u043e \\u0434\\u043e \\u0442\\u043e\\u0433\\u043e \\u043f\\u0435\\u0440\\u0435\\u043d\\u0451\\u0441 \\u0438\\u043d\\u0441\\u0443\\u043b\\u044c\\u0442. \\u041e\\u0434\\u043d\\u0430\\u043a\\u043e \\u041d\\u0430\\u043d\\u0441\\u0435\\u043d \\u043f\\u043e\\u043f\\u0430\\u043b \\u043f\\u043e\\u0434 \\u0432\\u043b\\u0438\\u044f\\u043d\\u0438\\u0435 \\u043f\\u0440\\u043e\\u0444\\u0435\\u0441\\u0441\\u043e\\u0440\\u0430 \\u0419\\u0435\\u043d\\u0441\\u043a\\u043e\\u0433\\u043e \\u0443\\u043d\\u0438\\u0432\\u0435\\u0440\\u0441\\u0438\\u0442\\u0435\\u0442\\u0430 \\u0412\\u0438\\u043b\\u043b\\u0438 \\u041a\\u044e\\u043a\\u0435\\u043d\\u0442\\u0430\\u043b\\u044f, \\u043f\\u0440\\u0435\\u0434\\u043b\\u043e\\u0436\\u0438\\u0432\\u0448\\u0435\\u0433\\u043e \\u0435\\u043c\\u0443 \\u0437\\u0430\\u043d\\u044f\\u0442\\u044c\\u0441\\u044f \\u0446\\u0435\\u043d\\u0442\\u0440\\u0430\\u043b\\u044c\\u043d\\u043e\\u0439 \\u043d\\u0435\\u0440\\u0432\\u043d\\u043e\\u0439 \\u0441\\u0438\\u0441\\u0442\\u0435\\u043c\\u043e\\u0439 \\u0431\\u0435\\u0441\\u043f\\u043e\\u0437\\u0432\\u043e\\u043d\\u043e\\u0447\\u043d\\u044b\\u0445[41]. \\u0412 1884 \\u0433\\u043e\\u0434\\u0443 \\u0432 \\u041d\\u043e\\u0440\\u0432\\u0435\\u0433\\u0438\\u0438 \\u043d\\u0430 \\u043c\\u0435\\u0436\\u0434\\u0443\\u043d\\u0430\\u0440\\u043e\\u0434\\u043d\\u043e\\u043c \\u0445\\u0438\\u043c\\u0438\\u0447\\u0435\\u0441\\u043a\\u043e\\u043c \\u043a\\u043e\\u043d\\u0433\\u0440\\u0435\\u0441\\u0441\\u0435 \\u043f\\u043e\\u0431\\u044b\\u0432\\u0430\\u043b \\u043e\\u0441\\u043d\\u043e\\u0432\\u0430\\u0442\\u0435\\u043b\\u044c \\u043c\\u0438\\u043a\\u0440\\u043e\\u0431\\u0438\\u043e\\u043b\\u043e\\u0433\\u0438\\u0438 \\u041b\\u0443\\u0438 \\u041f\\u0430\\u0441\\u0442\\u0435\\u0440, \\u0447\\u044c\\u0438 \\u0432\\u044b\\u0441\\u0442\\u0443\\u043f\\u043b\\u0435\\u043d\\u0438\\u044f \\u043d\\u0430\\u043f\\u0440\\u0430\\u0432\\u0438\\u043b\\u0438 \\u0432\\u043d\\u0438\\u043c\\u0430\\u043d\\u0438\\u0435 \\u041d\\u0430\\u043d\\u0441\\u0435\\u043d\\u0430 \\u043d\\u0430 \\u043e\\u0437\\u043d\\u0430\\u043a\\u043e\\u043c\\u043b\\u0435\\u043d\\u0438\\u0435 \\u0441 \\u043d\\u043e\\u0432\\u0435\\u0439\\u0448\\u0438\\u043c\\u0438 \\u0434\\u043e\\u0441\\u0442\\u0438\\u0436\\u0435\\u043d\\u0438\\u044f\\u043c\\u0438 \\u043d\\u0430\\u0443\\u043a\\u0438 \\u0437\\u0430 \\u0433\\u0440\\u0430\\u043d\\u0438\\u0446\\u0435\\u0439[42].\",\n          \"\\u0412 1887 \\u0433\\u043e\\u0434\\u0443 \\u0413\\u0435\\u043d\\u0440\\u0438\\u0445 \\u0413\\u0435\\u0440\\u0446 \\u0443\\u0441\\u0442\\u0430\\u043d\\u043e\\u0432\\u0438\\u043b, \\u0447\\u0442\\u043e \\u043f\\u043e\\u0434 \\u0434\\u0435\\u0439\\u0441\\u0442\\u0432\\u0438\\u0435\\u043c \\u0441\\u0432\\u0435\\u0442\\u0430 \\u0438\\u0437 \\u0442\\u0435\\u043b\\u0430 \\u043c\\u043e\\u0433\\u0443\\u0442 \\u0432\\u044b\\u0440\\u044b\\u0432\\u0430\\u0442\\u044c\\u0441\\u044f \\u044d\\u043b\\u0435\\u043a\\u0442\\u0440\\u043e\\u043d\\u044b \\u2014 \\u0431\\u044b\\u043b\\u043e \\u043e\\u0442\\u043a\\u0440\\u044b\\u0442\\u043e \\u044f\\u0432\\u043b\\u0435\\u043d\\u0438\\u0435 \\u0444\\u043e\\u0442\\u043e\\u044d\\u0444\\u0444\\u0435\\u043a\\u0442\\u0430. \\u042d\\u0442\\u043e \\u043d\\u0435 \\u0441\\u043e\\u0433\\u043b\\u0430\\u0441\\u043e\\u0432\\u044b\\u0432\\u0430\\u043b\\u043e\\u0441\\u044c \\u0441 \\u0432\\u043e\\u043b\\u043d\\u043e\\u0432\\u043e\\u0439 \\u0442\\u0435\\u043e\\u0440\\u0438\\u0435\\u0439 \\u0441\\u0432\\u0435\\u0442\\u0430 \\u2014 \\u043e\\u043d\\u0430 \\u043d\\u0435 \\u0441\\u043c\\u043e\\u0433\\u043b\\u0430 \\u043e\\u0431\\u044a\\u044f\\u0441\\u043d\\u0438\\u0442\\u044c \\u0437\\u0430\\u043a\\u043e\\u043d\\u044b \\u0444\\u043e\\u0442\\u043e\\u044d\\u0444\\u0444\\u0435\\u043a\\u0442\\u0430 \\u0438 \\u043d\\u0430\\u0431\\u043b\\u044e\\u0434\\u0430\\u0435\\u043c\\u043e\\u0435 \\u0440\\u0430\\u0437\\u0434\\u0435\\u043b\\u0435\\u043d\\u0438\\u0435 \\u044d\\u043d\\u0435\\u0440\\u0433\\u0438\\u0438 \\u0432 \\u0441\\u043f\\u0435\\u043a\\u0442\\u0440\\u0435 \\u044d\\u043b\\u0435\\u043a\\u0442\\u0440\\u043e\\u043c\\u0430\\u0433\\u043d\\u0438\\u0442\\u043d\\u043e\\u0433\\u043e \\u0438\\u0437\\u043b\\u0443\\u0447\\u0435\\u043d\\u0438\\u044f. \\u0412 1900 \\u0433\\u043e\\u0434\\u0443 \\u041c\\u0430\\u043a\\u0441 \\u041f\\u043b\\u0430\\u043d\\u043a \\u0443\\u0441\\u0442\\u0430\\u043d\\u043e\\u0432\\u0438\\u043b, \\u0447\\u0442\\u043e \\u0442\\u0435\\u043b\\u043e \\u043c\\u043e\\u0436\\u0435\\u0442 \\u043f\\u043e\\u0433\\u043b\\u043e\\u0449\\u0430\\u0442\\u044c \\u0438\\u043b\\u0438 \\u0438\\u0441\\u043f\\u0443\\u0441\\u043a\\u0430\\u0442\\u044c \\u044d\\u043b\\u0435\\u043a\\u0442\\u0440\\u043e\\u043c\\u0430\\u0433\\u043d\\u0438\\u0442\\u043d\\u0443\\u044e \\u044d\\u043d\\u0435\\u0440\\u0433\\u0438\\u044e \\u0442\\u043e\\u043b\\u044c\\u043a\\u043e \\u0441\\u043f\\u0435\\u0446\\u0438\\u0430\\u043b\\u044c\\u043d\\u044b\\u043c\\u0438 \\u043f\\u043e\\u0440\\u0446\\u0438\\u044f\\u043c\\u0438, \\u043a\\u0432\\u0430\\u043d\\u0442\\u0430\\u043c\\u0438. \\u042d\\u0442\\u043e \\u0434\\u0430\\u043b\\u043e \\u0442\\u0435\\u043e\\u0440\\u0435\\u0442\\u0438\\u0447\\u0435\\u0441\\u043a\\u0443\\u044e \\u043e\\u0441\\u043d\\u043e\\u0432\\u0443 \\u0434\\u043b\\u044f \\u043e\\u0431\\u044a\\u044f\\u0441\\u043d\\u0435\\u043d\\u0438\\u044f \\u044f\\u0432\\u043b\\u0435\\u043d\\u0438\\u0439 \\u0444\\u043e\\u0442\\u043e\\u044d\\u0444\\u0444\\u0435\\u043a\\u0442\\u0430. \\u0427\\u0442\\u043e\\u0431\\u044b \\u043e\\u0431\\u044a\\u044f\\u0441\\u043d\\u0438\\u0442\\u044c \\u044f\\u0432\\u043b\\u0435\\u043d\\u0438\\u044f \\u0444\\u043e\\u0442\\u043e\\u044d\\u0444\\u0444\\u0435\\u043a\\u0442\\u0430, \\u0432 1905 \\u0433\\u043e\\u0434\\u0443 \\u0410\\u043b\\u044c\\u0431\\u0435\\u0440\\u0442 \\u042d\\u0439\\u043d\\u0448\\u0442\\u0435\\u0439\\u043d \\u0432\\u044b\\u0434\\u0432\\u0438\\u043d\\u0443\\u043b \\u0433\\u0438\\u043f\\u043e\\u0442\\u0435\\u0437\\u0443 \\u043f\\u0440\\u043e \\u0441\\u0443\\u0449\\u0435\\u0441\\u0442\\u0432\\u043e\\u0432\\u0430\\u043d\\u0438\\u0435 \\u0444\\u043e\\u0442\\u043e\\u043d\\u043e\\u0432 \\u043a\\u0430\\u043a \\u0447\\u0430\\u0441\\u0442\\u0438\\u0447\\u0435\\u043a \\u0441\\u0432\\u0435\\u0442\\u0430, \\u0447\\u0442\\u043e \\u043f\\u043e\\u0437\\u0432\\u043e\\u043b\\u044f\\u0435\\u0442 \\u043e\\u0431\\u044a\\u044f\\u0441\\u043d\\u0438\\u0442\\u044c \\u043a\\u0432\\u0430\\u043d\\u0442\\u043e\\u0432\\u0443\\u044e \\u0442\\u0435\\u043e\\u0440\\u0438\\u044e \\u2014 \\u0444\\u043e\\u0442\\u043e\\u043d\\u044b, \\u043a\\u043e\\u0442\\u043e\\u0440\\u044b\\u0435 \\u0441\\u043f\\u043e\\u0441\\u043e\\u0431\\u043d\\u044b \\u043f\\u043e\\u0433\\u043b\\u043e\\u0449\\u0430\\u0442\\u044c\\u0441\\u044f \\u0438\\u043b\\u0438 \\u0438\\u0437\\u043b\\u0443\\u0447\\u0430\\u0442\\u044c\\u0441\\u044f \\u043a\\u0430\\u043a \\u0446\\u0435\\u043b\\u043e\\u0435 \\u043e\\u0434\\u043d\\u0438\\u043c \\u044d\\u043b\\u0435\\u043a\\u0442\\u0440\\u043e\\u043d\\u043e\\u043c, \\u043f\\u0440\\u0438\\u0434\\u0430\\u044e\\u0442 \\u0435\\u043c\\u0443 \\u0434\\u043e\\u0441\\u0442\\u0430\\u0442\\u043e\\u0447\\u043d\\u0443\\u044e \\u043a\\u0438\\u043d\\u0435\\u0442\\u0438\\u0447\\u0435\\u0441\\u043a\\u0443\\u044e \\u044d\\u043d\\u0435\\u0440\\u0433\\u0438\\u044e \\u0434\\u043b\\u044f \\u043f\\u0440\\u0435\\u043e\\u0434\\u043e\\u043b\\u0435\\u043d\\u0438\\u044f \\u0441\\u0438\\u043b\\u044b \\u0442\\u044f\\u0433\\u043e\\u0442\\u0435\\u043d\\u0438\\u044f \\u044d\\u043b\\u0435\\u043a\\u0442\\u0440\\u043e\\u043d\\u0430 \\u043a \\u044f\\u0434\\u0440\\u0443 \\u2014 \\u0432\\u043e\\u0437\\u043d\\u0438\\u043a\\u0430\\u0435\\u0442 \\u043a\\u0432\\u0430\\u043d\\u0442\\u043e\\u0432\\u0430\\u044f \\u0438\\u043e\\u043d\\u0438\\u0437\\u0430\\u0446\\u0438\\u044f.\"\n        ],\n        \"semantic_type\": \"\",\n        \"description\": \"\"\n      }\n    },\n    {\n      \"column\": \"questions_answers\",\n      \"properties\": {\n        \"dtype\": \"string\",\n        \"num_unique_values\": 1000,\n        \"samples\": [\n          \"question: \\u0421\\u043a\\u043e\\u043b\\u044c\\u043a\\u043e \\u0440\\u0430\\u0437 \\u0420\\u0435\\u0434\\u0436\\u0438\\u043d\\u0430\\u043b\\u044c\\u0434 \\u0414\\u043e\\u0445\\u0435\\u0440\\u0442\\u0438 \\u0441\\u0442\\u0430\\u043b \\u0447\\u0435\\u043c\\u043f\\u0438\\u043e\\u043d\\u043e\\u043c \\u0441 1897 \\u043f\\u043e 1900 \\u0433\\u043e\\u0434?, answer: \\u0447\\u0435\\u0442\\u044b\\u0440\\u0435 \\u0440\\u0430\\u0437\\u0430 \\u043f\\u043e\\u0434\\u0440\\u044f\\u0434 | question: \\u0414\\u043e \\u043a\\u0430\\u043a\\u043e\\u0433\\u043e \\u044d\\u0442\\u0430\\u043f\\u0430 \\u0447\\u0435\\u043c\\u043f\\u0438\\u043e\\u043d\\u0430\\u0442\\u0430 1896 \\u0433\\u043e\\u0434\\u0430 \\u0434\\u043e\\u0448\\u0435\\u043b \\u0420\\u0435\\u0434\\u0436\\u0438\\u043d\\u0430\\u043b\\u044c\\u0434 \\u0414\\u043e\\u0445\\u0435\\u0440\\u0442\\u0438?, answer: \\u0434\\u043e \\u0440\\u0430\\u0443\\u043d\\u0434\\u0430 \\u0432\\u044b\\u0437\\u043e\\u0432\\u0430 \\u0432 \\u043f\\u0430\\u0440\\u043d\\u043e\\u043c \\u0440\\u0430\\u0437\\u0440\\u044f\\u0434\\u0435 | question: \\u041a\\u043e\\u0433\\u0434\\u0430 \\u043c\\u0438\\u0440 \\u0432\\u043f\\u0435\\u0440\\u0432\\u044b\\u0435 \\u0443\\u0441\\u043b\\u044b\\u0448\\u0430\\u043b \\u043e \\u0431\\u0440\\u0430\\u0442\\u044c\\u044f\\u0445 \\u0414\\u043e\\u0445\\u0435\\u0440\\u0442\\u0438?, answer: \\u043d\\u0430 \\u0447\\u0435\\u043c\\u043f\\u0438\\u043e\\u043d\\u0430\\u0442\\u0435 1896 \\u0433\\u043e\\u0434\\u0430\",\n          \"question: \\u0427\\u0435\\u043c \\u043f\\u0440\\u0435\\u0434\\u043b\\u043e\\u0436\\u0438\\u043b \\u0412\\u0438\\u043b\\u043b\\u0438 \\u041a\\u044e\\u043a\\u0435\\u043d\\u0442\\u0430\\u043b\\u044c \\u0437\\u0430\\u043d\\u0438\\u043c\\u0430\\u0442\\u044c\\u0441\\u044f \\u041d\\u0430\\u043d\\u0441\\u0435\\u043d\\u0443?, answer: \\u0446\\u0435\\u043d\\u0442\\u0440\\u0430\\u043b\\u044c\\u043d\\u043e\\u0439 \\u043d\\u0435\\u0440\\u0432\\u043d\\u043e\\u0439 \\u0441\\u0438\\u0441\\u0442\\u0435\\u043c\\u043e\\u0439 \\u0431\\u0435\\u0441\\u043f\\u043e\\u0437\\u0432\\u043e\\u043d\\u043e\\u0447\\u043d\\u044b\\u0445 | question: \\u041a\\u0430\\u043a \\u0437\\u0432\\u0430\\u043b\\u0438 \\u043c\\u0438\\u043a\\u0440\\u043e\\u0431\\u0438\\u043e\\u043b\\u043e\\u0433\\u0430, \\u043a\\u043e\\u0442\\u043e\\u0440\\u044b\\u0439 \\u0432 1884 \\u0433\\u043e\\u0434\\u0443 \\u0432 \\u041d\\u043e\\u0440\\u0432\\u0435\\u0433\\u0438\\u0438 \\u043d\\u0430 \\u043c\\u0435\\u0436\\u0434\\u0443\\u043d\\u0430\\u0440\\u043e\\u0434\\u043d\\u043e\\u043c \\u0445\\u0438\\u043c\\u0438\\u0447\\u0435\\u0441\\u043a\\u043e\\u043c \\u043a\\u043e\\u043d\\u0433\\u0440\\u0435\\u0441\\u0441\\u0435 \\u043f\\u0440\\u0438\\u0432\\u043b\\u0451\\u043a \\u0432\\u043d\\u0438\\u043c\\u0430\\u043d\\u0438\\u0435 \\u041d\\u0430\\u043d\\u0441\\u0435\\u043d\\u0430?, answer: \\u041b\\u0443\\u0438 \\u041f\\u0430\\u0441\\u0442\\u0435\\u0440 | question: \\u041f\\u043e\\u0447\\u0435\\u043c\\u0443 \\u0424\\u0440\\u0438\\u0442\\u044c\\u043e\\u0444 \\u041d\\u0430\\u043d\\u0441\\u0435\\u043d \\u043e\\u0442\\u0432\\u0435\\u0440\\u0433 \\u043f\\u0440\\u0435\\u0434\\u043b\\u043e\\u0436\\u0435\\u043d\\u0438\\u0435 \\u0427\\u0430\\u0440\\u043b\\u044c\\u0437\\u0430 \\u041c\\u0430\\u0440\\u0448\\u0430 \\u043e \\u043f\\u0440\\u0438\\u0435\\u0437\\u0434\\u0435 \\u0432 \\u0421\\u0428\\u0410?, answer: \\u043f\\u043e\\u0441\\u043a\\u043e\\u043b\\u044c\\u043a\\u0443 \\u0411\\u0430\\u043b\\u044c\\u0434\\u0443\\u0440 \\u041d\\u0430\\u043d\\u0441\\u0435\\u043d \\u043d\\u0435\\u0437\\u0430\\u0434\\u043e\\u043b\\u0433\\u043e \\u0434\\u043e \\u0442\\u043e\\u0433\\u043e \\u043f\\u0435\\u0440\\u0435\\u043d\\u0451\\u0441 \\u0438\\u043d\\u0441\\u0443\\u043b\\u044c\\u0442\",\n          \"question: \\u041a\\u0430\\u043a\\u0443\\u044e \\u0433\\u0438\\u043f\\u043e\\u0442\\u0435\\u0437\\u0443 \\u0432\\u044b\\u0434\\u0432\\u0438\\u043d\\u0443\\u043b \\u0410\\u043b\\u044c\\u0431\\u0435\\u0440\\u0442 \\u042d\\u0439\\u043d\\u0448\\u0442\\u0435\\u0439\\u043d, \\u0447\\u0442\\u043e\\u0431\\u044b \\u043e\\u0431\\u044a\\u044f\\u0441\\u043d\\u0438\\u0442\\u044c \\u043a\\u0432\\u0430\\u043d\\u0442\\u043e\\u0432\\u0443\\u044e \\u0442\\u0435\\u043e\\u0440\\u0438\\u044e?, answer: \\u043f\\u0440\\u043e \\u0441\\u0443\\u0449\\u0435\\u0441\\u0442\\u0432\\u043e\\u0432\\u0430\\u043d\\u0438\\u0435 \\u0444\\u043e\\u0442\\u043e\\u043d\\u043e\\u0432 \\u043a\\u0430\\u043a \\u0447\\u0430\\u0441\\u0442\\u0438\\u0447\\u0435\\u043a \\u0441\\u0432\\u0435\\u0442\\u0430 | question: \\u0412 \\u043a\\u0430\\u043a\\u043e\\u043c \\u0433\\u043e\\u0434\\u0443 \\u0431\\u044b\\u043b\\u043e \\u043e\\u0442\\u043a\\u0440\\u044b\\u0442\\u043e \\u044f\\u0432\\u043b\\u0435\\u043d\\u0438\\u0435 \\u0444\\u043e\\u0442\\u043e\\u044d\\u0444\\u0444\\u0435\\u043a\\u0442\\u0430?, answer: \\u0412 1887 \\u0433\\u043e\\u0434\\u0443 | question: \\u0412 \\u043a\\u0430\\u043a\\u043e\\u043c \\u0433\\u043e\\u0434\\u0443 \\u0410\\u043b\\u044c\\u0431\\u0435\\u0440\\u0442 \\u042d\\u0439\\u043d\\u0448\\u0442\\u0435\\u0439\\u043d \\u0432\\u044b\\u0434\\u0432\\u0438\\u043d\\u0443\\u043b \\u0433\\u0438\\u043f\\u043e\\u0442\\u0435\\u0437\\u0443 \\u043e \\u0432\\u043e\\u0437\\u043d\\u0438\\u043a\\u043d\\u043e\\u0432\\u0435\\u043d\\u0438\\u0438 \\u043a\\u0432\\u0430\\u043d\\u0442\\u043e\\u0432\\u043e\\u0439 \\u0438\\u043e\\u043d\\u0438\\u0437\\u0430\\u0446\\u0438\\u0438?, answer: \\u0432 1905 \\u0433\\u043e\\u0434\\u0443 | question: \\u041a\\u0430\\u043a\\u043e\\u0439 \\u0443\\u0447\\u0435\\u043d\\u044b\\u0439 \\u0443\\u0441\\u0442\\u0430\\u043d\\u043e\\u0432\\u0438\\u043b, \\u0447\\u0442\\u043e \\u043f\\u043e\\u0434 \\u0434\\u0435\\u0439\\u0441\\u0442\\u0432\\u0438\\u0435\\u043c \\u0441\\u0432\\u0435\\u0442\\u0430 \\u0438\\u0437 \\u0442\\u0435\\u043b\\u0430 \\u043c\\u043e\\u0433\\u0443\\u0442 \\u0432\\u044b\\u0440\\u044b\\u0432\\u0430\\u0442\\u044c\\u0441\\u044f \\u044d\\u043b\\u0435\\u043a\\u0442\\u0440\\u043e\\u043d\\u044b?, answer: \\u0413\\u0435\\u043d\\u0440\\u0438\\u0445 \\u0413\\u0435\\u0440\\u0446\"\n        ],\n        \"semantic_type\": \"\",\n        \"description\": \"\"\n      }\n    },\n    {\n      \"column\": \"id\",\n      \"properties\": {\n        \"dtype\": \"number\",\n        \"std\": 288,\n        \"min\": 0,\n        \"max\": 999,\n        \"num_unique_values\": 1000,\n        \"samples\": [\n          521,\n          737,\n          740\n        ],\n        \"semantic_type\": \"\",\n        \"description\": \"\"\n      }\n    }\n  ]\n}"
            }
          },
          "metadata": {},
          "execution_count": 7
        }
      ]
    },
    {
      "cell_type": "code",
      "source": [
        "MAX_ROWS = 1000\n",
        "DOCUMENT=\"questions\"\n",
        "TOPIC=\"answers\"\n"
      ],
      "metadata": {
        "execution": {
          "iopub.status.busy": "2024-02-29T17:35:25.527688Z",
          "iopub.execute_input": "2024-02-29T17:35:25.528374Z",
          "iopub.status.idle": "2024-02-29T17:35:25.709895Z",
          "shell.execute_reply.started": "2024-02-29T17:35:25.528341Z",
          "shell.execute_reply": "2024-02-29T17:35:25.709127Z"
        },
        "trusted": true,
        "id": "DZf0zCI29TD1"
      },
      "execution_count": 33,
      "outputs": []
    },
    {
      "cell_type": "markdown",
      "source": [
        "**ChromaDB** требует, чтобы данные имели уникальный идентификатор. Мы можем сделать это с помощью этой инструкции, которая создаст новый столбец с именем **Id**."
      ],
      "metadata": {
        "id": "hmor-i1j9TD1"
      }
    },
    {
      "cell_type": "markdown",
      "source": [
        "# Импорт и настройка векторной БД\n",
        "Я собираюсь использовать ChromaDB, самую популярную векторную базу данных с открытым исходным кодом.\n",
        "\n",
        "Сначала нам нужно импортировать ChromaDB, а затем импортировать класс **Settings** из модуля **chromadb.config**. Этот класс позволяет нам изменять настройки системы ChromaDB и настраивать ее поведение."
      ],
      "metadata": {
        "id": "rZHg_Qh69TD1"
      }
    },
    {
      "cell_type": "code",
      "source": [
        "import chromadb\n",
        "from chromadb.config import Settings"
      ],
      "metadata": {
        "execution": {
          "iopub.status.busy": "2024-02-29T17:35:31.849199Z",
          "iopub.execute_input": "2024-02-29T17:35:31.849551Z",
          "iopub.status.idle": "2024-02-29T17:35:32.31736Z",
          "shell.execute_reply.started": "2024-02-29T17:35:31.849525Z",
          "shell.execute_reply": "2024-02-29T17:35:32.316617Z"
        },
        "trusted": true,
        "id": "npJhuZQw9TD1"
      },
      "execution_count": 34,
      "outputs": []
    },
    {
      "cell_type": "markdown",
      "source": [
        "Теперь нам нужно только указать путь, по которому будет храниться векторная база данных."
      ],
      "metadata": {
        "id": "8okox5C89TD1"
      }
    },
    {
      "cell_type": "code",
      "source": [
        "chroma_client = chromadb.PersistentClient(path=\"/VectorDB\")"
      ],
      "metadata": {
        "execution": {
          "iopub.status.busy": "2024-02-29T17:35:34.410268Z",
          "iopub.execute_input": "2024-02-29T17:35:34.410646Z",
          "iopub.status.idle": "2024-02-29T17:35:34.872817Z",
          "shell.execute_reply.started": "2024-02-29T17:35:34.410614Z",
          "shell.execute_reply": "2024-02-29T17:35:34.872039Z"
        },
        "trusted": true,
        "id": "9yK6y0hm9TD1"
      },
      "execution_count": 35,
      "outputs": []
    },
    {
      "cell_type": "markdown",
      "source": [
        "## Заполнение базы данных ChromaDB и запрос к ней\n",
        "Данные в ChromaDB хранятся в виде коллекций. Если коллекция существует, нам нужно ее удалить.\n",
        "\n",
        "В следующих строках мы создаем коллекцию, вызывая функцию ***create_collection*** в ***chroma_client***, созданную выше."
      ],
      "metadata": {
        "id": "7MhMwk3J9TD1"
      }
    },
    {
      "cell_type": "code",
      "source": [
        "collection_name = \"collection\"\n",
        "if len(chroma_client.list_collections()) > 0 and collection_name in [chroma_client.list_collections()[0].name]:\n",
        "        chroma_client.delete_collection(name=collection_name)\n",
        "\n",
        "collection = chroma_client.create_collection(name=collection_name)\n"
      ],
      "metadata": {
        "execution": {
          "iopub.status.busy": "2024-02-29T17:35:36.1156Z",
          "iopub.execute_input": "2024-02-29T17:35:36.116012Z",
          "iopub.status.idle": "2024-02-29T17:35:36.16922Z",
          "shell.execute_reply.started": "2024-02-29T17:35:36.115977Z",
          "shell.execute_reply": "2024-02-29T17:35:36.168504Z"
        },
        "trusted": true,
        "id": "kRCsunE19TD1"
      },
      "execution_count": 36,
      "outputs": []
    },
    {
      "cell_type": "markdown",
      "source": [
        "Пришло время добавить данные в коллекцию. Используя функцию ***add***, мы должны сообщить, по крайней мере, ***documents***, ***metadatas*** и ***ids***.\n",
        "* В **documents** мы храним большой текст, это отдельный столбец в каждом наборе данных.\n",
        "* В **metadatas** отображаются вопросы, на которые дан ответ.\n",
        "* В поле **ids** нам нужно указать уникальный идентификатор для каждой строки. Он ДОЛЖЕН быть уникальным! Я создаю идентификатор, используя диапазон MAX_ROWS."
      ],
      "metadata": {
        "id": "rdEtcETr9TD2"
      }
    },
    {
      "cell_type": "code",
      "source": [
        "collection.add(\n",
        "    documents=data[DOCUMENT].tolist(),\n",
        "    metadatas=[{TOPIC: topic} for topic in data[TOPIC].tolist()],\n",
        "    ids=[f\"id{x}\" for x in range(MAX_ROWS)],\n",
        ")"
      ],
      "metadata": {
        "execution": {
          "iopub.status.busy": "2024-02-29T17:35:38.051179Z",
          "iopub.execute_input": "2024-02-29T17:35:38.051601Z",
          "iopub.status.idle": "2024-02-29T17:36:38.612836Z",
          "shell.execute_reply.started": "2024-02-29T17:35:38.051569Z",
          "shell.execute_reply": "2024-02-29T17:36:38.611814Z"
        },
        "trusted": true,
        "id": "4dDoqJE79TD2"
      },
      "execution_count": 37,
      "outputs": []
    },
    {
      "cell_type": "markdown",
      "source": [
        "Как только у нас будет информация в базе данных, мы сможем запросить ее и получить данные, которые соответствуют нашим потребностям. Поиск выполняется внутри содержимого документа, и не требуется искать точное слово или фразу. Результаты будут основаны на сходстве между условиями поиска и содержанием документов.\n",
        "\n",
        "Метаданные не используются при поиске, но их можно использовать для фильтрации или уточнения результатов после первоначального поиска.\n",
        "\n",
        "Давайте определим функцию для запроса к базе данных Chroma DB."
      ],
      "metadata": {
        "id": "du6-iuUisRkM"
      }
    },
    {
      "cell_type": "code",
      "source": [
        "def query_database(query_text, n_results=10):\n",
        "    results = collection.query(query_texts=query_text, n_results=n_results )\n",
        "    return results"
      ],
      "metadata": {
        "execution": {
          "iopub.status.busy": "2024-02-29T17:36:38.615302Z",
          "iopub.execute_input": "2024-02-29T17:36:38.616047Z",
          "iopub.status.idle": "2024-02-29T17:36:38.620516Z",
          "shell.execute_reply.started": "2024-02-29T17:36:38.616008Z",
          "shell.execute_reply": "2024-02-29T17:36:38.619561Z"
        },
        "trusted": true,
        "id": "UjdhZ4MJ9TD2"
      },
      "execution_count": 38,
      "outputs": []
    },
    {
      "cell_type": "markdown",
      "source": [
        "## Создаем систему семантического кэширования\n",
        "Для реализации системы кэширования мы будем использовать Faiss, библиотеку, которая позволяет сохранять вложения в памяти. Это очень похоже на то, что делает Chrome, но без ее персистентности.\n",
        "\n",
        "Для этой цели мы создадим класс под названием semantic_cache, который будет работать со своим собственным кодировщиком и предоставлять пользователю необходимые функции для выполнения запросов.\n",
        "\n",
        "В этом классе первый запрос завершается ошибкой (кэш), и если возвращаемые результаты превышают указанный порог, он возвращает результат из кэша. В противном случае он извлекает результат из базы данных Chroma.\n",
        "\n",
        "Кэш хранится в файле .json."
      ],
      "metadata": {
        "id": "CL0Crl3x9TD2"
      }
    },
    {
      "cell_type": "code",
      "source": [
        "!pip install -q faiss-cpu==1.8.0"
      ],
      "metadata": {
        "execution": {
          "iopub.status.busy": "2024-02-29T17:36:38.621655Z",
          "iopub.execute_input": "2024-02-29T17:36:38.621968Z",
          "iopub.status.idle": "2024-02-29T17:36:51.313356Z",
          "shell.execute_reply.started": "2024-02-29T17:36:38.621936Z",
          "shell.execute_reply": "2024-02-29T17:36:51.312232Z"
        },
        "trusted": true,
        "id": "6OzUbRUe9TD2"
      },
      "execution_count": 39,
      "outputs": []
    },
    {
      "cell_type": "code",
      "source": [
        "import faiss\n",
        "from sentence_transformers import SentenceTransformer\n",
        "import time\n",
        "import json"
      ],
      "metadata": {
        "id": "0yGE4cTEp3QJ"
      },
      "execution_count": 40,
      "outputs": []
    },
    {
      "cell_type": "markdown",
      "source": [
        "Эта функция инициализирует семантический кэш.\n",
        "\n",
        "Она использует индекс Flats, который, возможно, не самый быстрый, но идеально подходит для небольших наборов данных. В зависимости от характеристик данных, предназначенных для кэширования, и ожидаемого размера набора данных можно использовать другой индекс, такой как HNSW или IVF."
      ],
      "metadata": {
        "id": "yi_riXHhcLy0"
      }
    },
    {
      "cell_type": "code",
      "source": [
        "def init_cache():\n",
        "  index = faiss.IndexFlatL2(312)\n",
        "  if index.is_trained:\n",
        "            print('Index trained')\n",
        "\n",
        "  # Initialize Sentence Transformer model\n",
        "  encoder = SentenceTransformer('cointegrated/rubert-tiny2')\n",
        "\n",
        "  return index, encoder"
      ],
      "metadata": {
        "id": "9poNBxbPl7xE"
      },
      "execution_count": 41,
      "outputs": []
    },
    {
      "cell_type": "markdown",
      "source": [
        "В функции `retrieve_cache` файл .json извлекается с диска на случай, если возникнет необходимость повторно использовать кэш в разных сеансах."
      ],
      "metadata": {
        "id": "_uZzX60odo1U"
      }
    },
    {
      "cell_type": "code",
      "source": [
        "def retrieve_cache(json_file):\n",
        "      try:\n",
        "          with open(json_file, 'r') as file:\n",
        "              cache = json.load(file)\n",
        "      except FileNotFoundError:\n",
        "          cache = {'questions': [], 'embeddings': [], 'answers': [], 'response_text': []}\n",
        "\n",
        "      return cache"
      ],
      "metadata": {
        "id": "FDJJ86TSp5CO"
      },
      "execution_count": 78,
      "outputs": []
    },
    {
      "cell_type": "markdown",
      "source": [
        "Функция `store_cache` сохраняет файл, содержащий данные кэша, на диск."
      ],
      "metadata": {
        "id": "3uO-12UIdtSD"
      }
    },
    {
      "cell_type": "code",
      "source": [
        "def store_cache(json_file, cache):\n",
        "  with open(json_file, 'w') as file:\n",
        "        json.dump(cache, file)"
      ],
      "metadata": {
        "id": "jx1CiKOcwKGn"
      },
      "execution_count": 43,
      "outputs": []
    },
    {
      "cell_type": "markdown",
      "source": [
        "Эти функции будут использоваться в классе \"Семантический кэш\", который включает в себя функцию поиска и ее функцию инициализации.\n",
        "\n",
        "Несмотря на то, что метод **ask** содержит значительный объем кода, ее назначение довольно простое. Он ищет в кэше вопрос, наиболее близкий к тому, который только что задал пользователь.\n",
        "\n",
        "Затем проверяет, соответствует ли он указанному пороговому значению. В случае положительного результата он напрямую возвращает ответ из кэша; в противном случае он вызывает функцию `query_database` для извлечения данных из ChromaDB.\n",
        "\n",
        "Я использовал евклидово расстояние вместо косинуса, который широко используется при векторных сравнениях. Этот выбор основан на том факте, что евклидово расстояние является метрикой по умолчанию, используемой Faiss. Хотя косинусоидальное расстояние также можно рассчитать, это усложняет задачу, которая может существенно не повлиять на конечный результат."
      ],
      "metadata": {
        "id": "t9AdmnhQd2E8"
      }
    },
    {
      "cell_type": "code",
      "source": [
        "print(collection)"
      ],
      "metadata": {
        "colab": {
          "base_uri": "https://localhost:8080/"
        },
        "id": "mYZWE0tImBL4",
        "outputId": "2b1173b7-eeef-4fd8-b727-0ed416127491"
      },
      "execution_count": 44,
      "outputs": [
        {
          "output_type": "stream",
          "name": "stdout",
          "text": [
            "name='collection' id=UUID('6e5d78d7-089c-43a1-a0e6-bfdebf0b670c') metadata=None tenant='default_tenant' database='default_database'\n"
          ]
        }
      ]
    },
    {
      "cell_type": "code",
      "source": [
        "class semantic_cache:\n",
        "  def __init__(self, json_file=\"cache_file.json\", thresold=0.35):\n",
        "      # Initialize Faiss index with Euclidean distance\n",
        "      self.index, self.encoder = init_cache()\n",
        "\n",
        "      # Set Euclidean distance threshold\n",
        "      # a distance of 0 means identicals sentences\n",
        "      # We only return from cache sentences under this thresold\n",
        "      self.euclidean_threshold = thresold\n",
        "\n",
        "      self.json_file = json_file\n",
        "      self.cache = retrieve_cache(self.json_file)\n",
        "\n",
        "  def ask(self, question: str) -> str:\n",
        "      # Method to retrieve an answer from the cache or generate a new one\n",
        "      start_time = time.time()\n",
        "      try:\n",
        "          #First we obtain the embeddings corresponding to the user question\n",
        "          embedding = self.encoder.encode([question])\n",
        "\n",
        "          # Search for the nearest neighbor in the index\n",
        "          self.index.nprobe = 8\n",
        "          D, I = self.index.search(embedding, 1)\n",
        "\n",
        "          if D[0] >= 0:\n",
        "              if I[0][0] >= 0 and D[0][0] <= self.euclidean_threshold:\n",
        "                  row_id = int(I[0][0])\n",
        "\n",
        "                  print('Answer recovered from Cache. ')\n",
        "                  print(f'{D[0][0]:.3f} smaller than {self.euclidean_threshold}')\n",
        "                  print(f'Found cache in row: {row_id} with score {D[0][0]:.3f}')\n",
        "                  print(f'response_text: ' + self.cache['response_text'][row_id])\n",
        "\n",
        "                  end_time = time.time()\n",
        "                  elapsed_time = end_time - start_time\n",
        "                  print(f\"Time taken: {elapsed_time:.3f} seconds\")\n",
        "                  return self.cache['response_text'][row_id]\n",
        "\n",
        "          # Handle the case when there are not enough results\n",
        "          # or Euclidean distance is not met, asking to chromaDB.\n",
        "          answer  = query_database([question], 1)\n",
        "          print(answer)\n",
        "          response_text = answer['metadatas'][0][0]['answers']\n",
        "\n",
        "          self.cache['questions'].append(question)\n",
        "          self.cache['embeddings'].append(embedding[0].tolist())\n",
        "          self.cache['answers'].append(answer)\n",
        "          self.cache['response_text'].append(response_text)\n",
        "\n",
        "          print('Answer recovered from ChromaDB. ')\n",
        "          print(f'response_text: {response_text}')\n",
        "\n",
        "          self.index.add(embedding)\n",
        "          store_cache(self.json_file, self.cache)\n",
        "          end_time = time.time()\n",
        "          elapsed_time = end_time - start_time\n",
        "          print(f\"Time taken: {elapsed_time:.3f} seconds\")\n",
        "\n",
        "          return response_text\n",
        "      except Exception as e:\n",
        "          raise RuntimeError(f\"Error during 'ask' method: {e}\")"
      ],
      "metadata": {
        "execution": {
          "iopub.status.busy": "2024-02-29T17:36:51.316449Z",
          "iopub.execute_input": "2024-02-29T17:36:51.31678Z",
          "iopub.status.idle": "2024-02-29T17:36:55.197427Z",
          "shell.execute_reply.started": "2024-02-29T17:36:51.316746Z",
          "shell.execute_reply": "2024-02-29T17:36:55.196616Z"
        },
        "trusted": true,
        "id": "t_HVtwww9TD2"
      },
      "execution_count": 79,
      "outputs": []
    },
    {
      "cell_type": "markdown",
      "source": [
        "### Testing the semantic_cache class."
      ],
      "metadata": {
        "id": "UBWTqGM7i71N"
      }
    },
    {
      "cell_type": "code",
      "source": [
        "# Initialize the cache.\n",
        "cache = semantic_cache()"
      ],
      "metadata": {
        "id": "JH8s8eUtCMIS",
        "outputId": "44732462-660c-4b6f-a60f-4eff0aa601a0",
        "colab": {
          "base_uri": "https://localhost:8080/"
        }
      },
      "execution_count": 80,
      "outputs": [
        {
          "output_type": "stream",
          "name": "stdout",
          "text": [
            "Index trained\n"
          ]
        },
        {
          "output_type": "stream",
          "name": "stderr",
          "text": [
            "/usr/local/lib/python3.10/dist-packages/huggingface_hub/file_download.py:1132: FutureWarning: `resume_download` is deprecated and will be removed in version 1.0.0. Downloads always resume when possible. If you want to force a new download, use `force_download=True`.\n",
            "  warnings.warn(\n"
          ]
        }
      ]
    },
    {
      "cell_type": "code",
      "source": [
        "results = cache.ask(\"Какое понятие ввел А.Ф. Самойлов\")"
      ],
      "metadata": {
        "id": "mKqKLfDe_8bC",
        "outputId": "5f9b70ee-7026-4ec9-a128-5b454d15cb7e",
        "colab": {
          "base_uri": "https://localhost:8080/"
        }
      },
      "execution_count": 81,
      "outputs": [
        {
          "output_type": "stream",
          "name": "stdout",
          "text": [
            "{'ids': [['id8']], 'distances': [[0.0]], 'metadatas': [[{'answers': 'власть воли'}]], 'embeddings': None, 'documents': [['Какое понятие ввел А.Ф. Самойлов']], 'uris': None, 'data': None}\n",
            "Answer recovered from ChromaDB. \n",
            "response_text: власть воли\n",
            "Time taken: 0.157 seconds\n"
          ]
        }
      ]
    },
    {
      "cell_type": "markdown",
      "source": [
        "Как и ожидалось, этот ответ был получен из Chroma DB. Затем класс сохраняет его в кэше.\n",
        "\n",
        "Теперь, если мы отправим второй вопрос, который будет совершенно другим, ответ также должен быть получен из ChromaDB. Это происходит потому, что сохраненный ранее вопрос настолько непохож на заданный, что он превысил бы указанный порог с точки зрения евклидова расстояния."
      ],
      "metadata": {
        "id": "dP7H6TypknLN"
      }
    },
    {
      "cell_type": "code",
      "source": [
        "results = cache.ask(\"При каком бюджете на раскрутку фото певицы решают не помещать на обложке ?\")"
      ],
      "metadata": {
        "execution": {
          "iopub.status.busy": "2024-02-29T17:37:15.335288Z",
          "iopub.execute_input": "2024-02-29T17:37:15.335593Z",
          "iopub.status.idle": "2024-02-29T17:37:17.320691Z",
          "shell.execute_reply.started": "2024-02-29T17:37:15.335566Z",
          "shell.execute_reply": "2024-02-29T17:37:17.319671Z"
        },
        "trusted": true,
        "id": "CvJykqVf9TD2",
        "outputId": "03eb78a8-d9ff-4c57-f4aa-60827c91eb46",
        "colab": {
          "base_uri": "https://localhost:8080/"
        }
      },
      "execution_count": 82,
      "outputs": [
        {
          "output_type": "stream",
          "name": "stdout",
          "text": [
            "{'ids': [['id0']], 'distances': [[0.0]], 'metadatas': [[{'answers': 'При нулевом'}]], 'embeddings': None, 'documents': [['При каком бюджете на раскрутку фото певицы решают не помещать на обложке ?']], 'uris': None, 'data': None}\n",
            "Answer recovered from ChromaDB. \n",
            "response_text: При нулевом\n",
            "Time taken: 0.238 seconds\n"
          ]
        }
      ]
    },
    {
      "cell_type": "code",
      "source": [
        "question_def = \"Чего лишен искусственный мёд по сравнению с натуральным?\"\n",
        "results = cache.ask(question_def)"
      ],
      "metadata": {
        "id": "ysj5P_MBCqju",
        "outputId": "3dae90a1-ae04-45dc-85d8-52ecbc0a5a4d",
        "colab": {
          "base_uri": "https://localhost:8080/"
        }
      },
      "execution_count": 83,
      "outputs": [
        {
          "output_type": "stream",
          "name": "stdout",
          "text": [
            "{'ids': [['id11']], 'distances': [[0.0]], 'metadatas': [[{'answers': 'не имеет ферментов и не обладает ароматом'}]], 'embeddings': None, 'documents': [['Чего лишен искусственный мёд по сравнению с натуральным?']], 'uris': None, 'data': None}\n",
            "Answer recovered from ChromaDB. \n",
            "response_text: не имеет ферментов и не обладает ароматом\n",
            "Time taken: 0.221 seconds\n"
          ]
        }
      ]
    },
    {
      "cell_type": "code",
      "source": [
        "question_def = \"Чего лишен мёд по сравнению с натуральным?\"\n",
        "results = cache.ask(question_def)"
      ],
      "metadata": {
        "colab": {
          "base_uri": "https://localhost:8080/"
        },
        "id": "eImFSVXrrdPc",
        "outputId": "a1dce736-7b85-4a90-e304-5f077b3e5901"
      },
      "execution_count": 84,
      "outputs": [
        {
          "output_type": "stream",
          "name": "stdout",
          "text": [
            "Answer recovered from Cache. \n",
            "0.049 smaller than 0.35\n",
            "Found cache in row: 2 with score 0.049\n",
            "response_text: не имеет ферментов и не обладает ароматом\n",
            "Time taken: 0.011 seconds\n"
          ]
        }
      ]
    },
    {
      "cell_type": "markdown",
      "source": [
        "Отлично, система семантического кэширования работает так, как ожидалось.\n",
        "\n",
        "Давайте протестируем ее с помощью вопроса, очень похожего на тот, который мы только что задали.\n",
        "\n",
        "В этом случае ответ должен прийти непосредственно из кэша без необходимости обращаться к базе данных Chrome DB."
      ],
      "metadata": {
        "id": "8aPWvU64lxOU"
      }
    },
    {
      "cell_type": "markdown",
      "source": [
        "# Заключение.\n",
        "\n",
        "При обращении к ChromaDB и непосредственном обращении к кэшу производительность повышается примерно на 50%. Однако в более крупных проектах эта разница увеличивается, что приводит к повышению производительности на 90-95%.\n",
        "\n",
        "Тут очень мало данных в ChromaDB и только один экземпляр класса cache. Как правило, объем данных, хранящихся в системе кэширования, намного больше, и, возможно, это не просто запрос к базе данных vector, но они получены из разных источников.\n",
        "\n",
        "Обычно существует несколько экземпляров класса cache, обычно основанных на типологии пользователей, поскольку вопросы, как правило, чаще повторяются среди пользователей, имеющих общие черты.\n",
        "\n",
        "Таким образом, создана простая система RAG (поисково-расширенной генерации) и дополнена слоем семантического кэша между вопросом пользователя и получением информации, необходимой для создания расширенного запроса."
      ],
      "metadata": {
        "execution": {
          "iopub.status.busy": "2023-07-12T22:01:56.992775Z",
          "iopub.execute_input": "2023-07-12T22:01:56.993351Z",
          "iopub.status.idle": "2023-07-12T22:01:57.001309Z",
          "shell.execute_reply.started": "2023-07-12T22:01:56.993305Z",
          "shell.execute_reply": "2023-07-12T22:01:56.999431Z"
        },
        "id": "Uo7lGXBV9TD8"
      }
    }
  ]
}