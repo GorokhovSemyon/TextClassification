{
 "cells": [
  {
   "cell_type": "markdown",
   "metadata": {},
   "source": [
    "# Построение оценок\n",
    "Оптимизация LLM для обеспечения максимально возможной точности выполнения задачи - это эмпирическая наука и процесс постоянного совершенствования. Независимо от того, пытаетесь ли вы узнать, улучшило ли изменение в вашем запросе производительность модели по ключевым показателям, или вы пытаетесь оценить, достаточно ли хороша модель для запуска в производство, хорошая система автономной оценки имеет решающее значение для успеха.\n",
    "\n",
    "В этом рецепте мы рассмотрим общие закономерности при построении оценок и полезные практические правила, которым следует следовать при этом."
   ]
  },
  {
   "cell_type": "markdown",
   "metadata": {},
   "source": [
    "## Части Eval\n",
    "Evals обычно состоят из четырех частей.\n",
    "- Запрос ввода, который передается в модель. Мы попросим gpt-2 сгенерировать завершение на основе этого запроса. Часто, когда мы разрабатываем наши evals, столбец input содержит набор переменных входных данных, которые вводятся в шаблон запроса во время тестирования.\n",
    "- Выходные данные, полученные в результате выполнения запроса input в модели, которую мы хотим оценить.\n",
    "- \"Золотой ответ\", с которым мы сравниваем результаты моделирования. Золотой ответ может быть обязательным для точного соответствия, или это может быть пример идеального ответа, который должен дать ученику балл для сравнения, на основании которого он будет оценивать результаты.\n",
    "- Балл, полученный с помощью одного из методов оценки, описанных ниже, который отражает результаты работы модели над вопросом.\n",
    "\n",
    "## Оценка методов оценки\n",
    "При проведении оценки есть две вещи, которые могут отнимать много времени и быть дорогостоящими. Первая - это написание вопросов и правильных ответов для оценки. Вторая - выставление оценок. Написание вопросов и правильных ответов может занять довольно много времени, если у вас нет готового набора данных или способа создать его, не генерируя вопросы вручную (рассмотрите возможность использования Claude для генерации ваших вопросов!), но имеет то преимущество, что, как правило, это единовременная фиксированная стоимость. Вы пишете вопросы и замечательные ответы, и вам очень редко приходится переписывать их заново. С другой стороны, выставление оценок - это затраты, которые вы будете нести каждый раз при повторном запуске eval, причем бесконечно, а вы, скорее всего, будете часто повторять свою оценку. В результате в центре внимания при выборе дизайна должны быть параметры построения, которые можно быстро и недорого оценить.\n",
    "\n",
    "Существует три распространенных способа оценки параметров.\n",
    "- **Оценка на основе кода:** Для оценки результатов модели используется стандартный код (в основном, для сопоставления строк и регулярных выражений). Распространенные версии проверяют точное соответствие ответа или то, содержит ли строка некоторые ключевые фразы. Это, безусловно, лучший метод оценки, если вы можете разработать оценку, которая это позволяет, поскольку она очень быстрая и высоконадежная. Однако многие методы оценки не позволяют использовать этот стиль оценки.\n",
    "- **Оценка человеком:** Человек просматривает сгенерированный по модели ответ, сравнивает его с золотым ответом и присваивает оценку. Это наиболее эффективный метод оценки, поскольку его можно использовать практически для любой задачи, но он также невероятно медленный и дорогостоящий, особенно если вы создали большой eval. В основном вам следует избегать разработки evals, требующих оценки человеком, если это возможно.\n",
    "- **Оценка на основе моделей:** Оказывается, Claude обладает высокой способностью к самостоятельной оценке и может использоваться для оценки широкого спектра задач, которые исторически могли требоваться от человека, таких как анализ интонации в творческом письме или точность ответов на вопросы в свободной форме. Вы можете сделать это, написав для Claude запрос на оценку.\n",
    "\n",
    "Давайте рассмотрим на примере каждый метод оценки."
   ]
  },
  {
   "cell_type": "markdown",
   "metadata": {},
   "source": [
    "### Оценка на основе кода\n",
    "Здесь мы будем оценивать eval, в котором просим gpt-2 решить простейшие примеры. Так как эта модель не поддерживает передачу системного промпта в явном виде, он просто внедрён в запрос к модели."
   ]
  },
  {
   "cell_type": "code",
   "execution_count": 183,
   "metadata": {},
   "outputs": [],
   "source": [
    "%%capture\n",
    "%pip install transformers"
   ]
  },
  {
   "cell_type": "code",
   "execution_count": 50,
   "metadata": {},
   "outputs": [],
   "source": [
    "from transformers import GPT2LMHeadModel, GPT2Tokenizer\n",
    "\n",
    "# Load the GPT-2 model and tokenizer\n",
    "model_name = 'gpt2'\n",
    "model = GPT2LMHeadModel.from_pretrained(model_name)\n",
    "tokenizer = GPT2Tokenizer.from_pretrained(model_name)"
   ]
  },
  {
   "cell_type": "code",
   "execution_count": 63,
   "metadata": {},
   "outputs": [],
   "source": [
    "# Определение функции для генерации ответа\n",
    "def get_completion(model, tokenizer, system_prompt, context, max_length=16):\n",
    "    input_text = f\"{system_prompt} {context}\"\n",
    "    input_ids = tokenizer.encode(input_text, return_tensors='pt')\n",
    "    outputs = model.generate(input_ids, max_length=max_length, num_return_sequences=1, no_repeat_ngram_size=2, pad_token_id=tokenizer.eos_token_id, top_k=5)\n",
    "    return tokenizer.decode(outputs[0], skip_special_tokens=True)"
   ]
  },
  {
   "cell_type": "code",
   "execution_count": 104,
   "metadata": {},
   "outputs": [],
   "source": [
    "# Задаем данные eval с вопросами и золотыми ответами\n",
    "eval = [\n",
    "    {\n",
    "        \"question\": '2024*123/30*0 =',\n",
    "        \"golden_answer\": '0.0'\n",
    "    },\n",
    "    {\n",
    "        \"question\": 'x - 1 = 1',\n",
    "        \"golden_answer\": 'Answer x = 2'\n",
    "    }\n",
    "]"
   ]
  },
  {
   "cell_type": "code",
   "execution_count": 105,
   "metadata": {},
   "outputs": [],
   "source": [
    "# Генерация ответов для каждого вопроса в eval\n",
    "outputs = [get_completion(model, tokenizer, system_prompt, question['question']) for question in eval]"
   ]
  },
  {
   "cell_type": "code",
   "execution_count": 106,
   "metadata": {},
   "outputs": [
    {
     "name": "stdout",
     "output_type": "stream",
     "text": [
      "----------------\n",
      "Give short answer 2024*123/30*0 = 0.0\n",
      "----------------\n",
      "----------------\n",
      "Give short answer x - 1 = 1\n",
      "\n",
      "Answer x = 2\n",
      ".\n",
      "----------------\n"
     ]
    }
   ],
   "source": [
    "for out in outputs:\n",
    "    print('----------------')\n",
    "    print(out.strip())\n",
    "    print('----------------')"
   ]
  },
  {
   "cell_type": "code",
   "execution_count": 107,
   "metadata": {},
   "outputs": [
    {
     "name": "stdout",
     "output_type": "stream",
     "text": [
      "Score: 100.0%\n"
     ]
    }
   ],
   "source": [
    "# Оценка результатов сравнением с золотыми ответами\n",
    "def grade_completion(output, golden_answer):\n",
    "    return golden_answer in output\n",
    "\n",
    "# Оценка и вывод результатов\n",
    "grades = [grade_completion(output, question['golden_answer']) for output, question in zip(outputs, eval)]\n",
    "print(f\"Score: {sum(grades)/len(grades)*100}%\")"
   ]
  },
  {
   "cell_type": "markdown",
   "metadata": {},
   "source": [
    "Видно, что с настролько простыми примерами модель справилась, но это в целом не так интересно, да и для решения математических вопросов лучше использовать например метод добавления модели (которая поддерживает такое) инструментов или функция для подсчёта, так как в виде из коробки в расчётах посложнее модели сильно ошибаются."
   ]
  },
  {
   "cell_type": "markdown",
   "metadata": {},
   "source": [
    "### Оценка человеком\n",
    "Для экспериментирования с таким подходом возьмём другую модель, которая поддерживает использование системного промпта в явном виде - GigaChat.\n",
    "\n",
    "Теперь давайте представим, что мы оцениваем eval, в котором мы задали GigaChat ряд открытых вопросов, возможно, для помощника в чате общего назначения. К сожалению, ответы могут быть разными, и это невозможно оценить с помощью кода. Один из способов, которым мы можем это сделать, - это оценка людей."
   ]
  },
  {
   "cell_type": "code",
   "execution_count": 115,
   "metadata": {},
   "outputs": [],
   "source": [
    "from os import environ\n",
    "environ[\"ClientID\"] = \"aec9cb23-5071-4a7b-81b8-72a446da20f7\"\n",
    "environ[\"ClientSecret\"] = \"fefdac15-8a46-43b9-b8ce-f96056f7ea29\""
   ]
  },
  {
   "cell_type": "code",
   "execution_count": 192,
   "metadata": {},
   "outputs": [],
   "source": [
    "from os import environ\n",
    "import streamlit as st\n",
    "import requests\n",
    "import base64\n",
    "import json\n",
    "import uuid\n",
    "\n",
    "\n",
    "class GigaChatIntegration:\n",
    "    \"\"\"\n",
    "        Класс взаимодействия с GigaChat по API\n",
    "    \"\"\"\n",
    "    def __init__(self, conversation_history=None):\n",
    "        \"\"\"\n",
    "            Инициализация класса взаимодействия с GigaChat по API\n",
    "        \"\"\"\n",
    "        c_id = environ.get('ClientID')\n",
    "        c_secret = environ.get('ClientSecret')\n",
    "        creds = f\"{c_id}:{c_secret}\"\n",
    "        self.encoded_creds = base64.b64encode(creds.encode('utf-8')).decode('utf-8')\n",
    "        self.giga_token = None\n",
    "        self.giga_models = None\n",
    "        self.last_response = None\n",
    "        self.response_data = None\n",
    "        self.conversation_history = conversation_history if conversation_history else []\n",
    "        self.get_token()\n",
    "\n",
    "\n",
    "    def get_token(self, scope='GIGACHAT_API_PERS'):\n",
    "        \"\"\"\n",
    "            Выполняет POST-запрос к эндпоинту, который выдает токен.\n",
    "            :param scope: область действия запроса API. По умолчанию — «GIGACHAT_API_PERS».\n",
    "            :return: ответ API, где токен и срок его \"годности\".\n",
    "        \"\"\"\n",
    "        # Генерация RqUID\n",
    "        rq_uid = str(uuid.uuid4())\n",
    "\n",
    "        # API URL\n",
    "        url = \"https://ngw.devices.sberbank.ru:9443/api/v2/oauth\"\n",
    "\n",
    "        headers = {\n",
    "            'Content-Type': 'application/x-www-form-urlencoded',\n",
    "            'Accept': 'application/json',\n",
    "            'RqUID': rq_uid,\n",
    "            'Authorization': f'Basic {self.encoded_creds}'\n",
    "        }\n",
    "\n",
    "        # Содержимое запроса\n",
    "        payload = {\n",
    "            'scope': scope\n",
    "        }\n",
    "\n",
    "        try:\n",
    "            # POST запрос\n",
    "            response = requests.post(url, headers=headers, data=payload, verify=False)\n",
    "            self.giga_token = response.json()['access_token']\n",
    "            return response.text\n",
    "        except requests.RequestException as e:\n",
    "            print(f\"Ошибка: {str(e)}\")\n",
    "            return -1\n",
    "\n",
    "\n",
    "    def get_aswer_with_prompt(self, sys_prompt, message):\n",
    "        \"\"\"\n",
    "            Отправляет POST-запрос к API чата для получения ответа от модели GigaChat\n",
    "        \"\"\"\n",
    "        # URL API\n",
    "        url = \"https://gigachat.devices.sberbank.ru/api/v1/chat/completions\"\n",
    "\n",
    "        prompt = sys_prompt\n",
    "\n",
    "        user_message = message\n",
    "\n",
    "        self.conversation_history = [\n",
    "        {\n",
    "            'role': 'system',\n",
    "            'content': prompt\n",
    "        },\n",
    "        {\n",
    "            'role': 'user',\n",
    "            'content': user_message\n",
    "        }]\n",
    "\n",
    "        payload = json.dumps({\n",
    "            \"model\": \"GigaChat-Pro\",  # Выбор модели\n",
    "            \"messages\": self.conversation_history,\n",
    "            \"temperature\": 1,  # Температура генерации\n",
    "            \"top_p\": 0.1,  # Параметр top_p для контроля разнообразия ответов\n",
    "            \"n\": 1,  # Количество возвращаемых ответов\n",
    "            \"stream\": False,  # Потоковая ли передача ответов\n",
    "            \"max_tokens\": 128,  # Максимальное количество токенов в ответе\n",
    "            \"repetition_penalty\": 1,  # Штраф за повторения\n",
    "            \"update_interval\": 0  # Интервал обновления (для потоковой передачи)\n",
    "        })\n",
    "\n",
    "        headers = {\n",
    "            'Content-Type': 'application/json',\n",
    "            'Accept': 'application/json',\n",
    "            'Authorization': f'Bearer {self.giga_token}'  # Токен чата\n",
    "        }\n",
    "\n",
    "        # Выполнение POST-запроса и возвращение ответа\n",
    "        try:\n",
    "            response = requests.request(\"POST\", url, headers=headers, data=payload, verify=False)\n",
    "            self.last_response = response\n",
    "            self.response_data = response.json()\n",
    "            print()\n",
    "            print()\n",
    "            return self.response_data['choices'][0]['message']['content']\n",
    "        except requests.RequestException as e:\n",
    "            # Обработка исключения в случае ошибки запроса\n",
    "            print(f\"Произошла ошибка: {str(e)}\")\n",
    "            return None, self.conversation_history"
   ]
  },
  {
   "cell_type": "code",
   "execution_count": 193,
   "metadata": {},
   "outputs": [
    {
     "name": "stderr",
     "output_type": "stream",
     "text": [
      "C:\\Users\\GorokhovSN\\AppData\\Local\\anaconda3\\Lib\\site-packages\\urllib3\\connectionpool.py:1064: InsecureRequestWarning: Unverified HTTPS request is being made to host 'ngw.devices.sberbank.ru'. Adding certificate verification is strongly advised. See: https://urllib3.readthedocs.io/en/1.26.x/advanced-usage.html#ssl-warnings\n",
      "  warnings.warn(\n",
      "C:\\Users\\GorokhovSN\\AppData\\Local\\anaconda3\\Lib\\site-packages\\urllib3\\connectionpool.py:1064: InsecureRequestWarning: Unverified HTTPS request is being made to host 'gigachat.devices.sberbank.ru'. Adding certificate verification is strongly advised. See: https://urllib3.readthedocs.io/en/1.26.x/advanced-usage.html#ssl-warnings\n",
      "  warnings.warn(\n"
     ]
    },
    {
     "name": "stdout",
     "output_type": "stream",
     "text": [
      "\n",
      "\n"
     ]
    },
    {
     "data": {
      "text/plain": [
       "'To provide you with the most accurate information, I would need to know the year or time period you are interested in. The population of Russia has changed over time and currently stands at around 146 million people.'"
      ]
     },
     "execution_count": 193,
     "metadata": {},
     "output_type": "execute_result"
    }
   ],
   "source": [
    "gc = GigaChatIntegration()\n",
    "answer = gc.get_aswer_with_prompt(\"Check your answer for correct\", \"How many people live in Russia?\")\n",
    "answer"
   ]
  },
  {
   "cell_type": "code",
   "execution_count": 195,
   "metadata": {},
   "outputs": [],
   "source": [
    "# Define our eval. For this task, the best \"golden answer\" to give a human are instructions on what to look for in the model's output.\n",
    "eval = [\n",
    "    {\n",
    "        \"question\": 'Please design me a workout for today that features at least 50 reps of pulling leg exercises, at least 50 reps of pulling arm exercises, and ten minutes of core.',\n",
    "        \"golden_answer\": 'A correct answer should include a workout plan with 50 or more reps of pulling leg exercises (such as deadlifts, but not such as squats which are a pushing exercise), 50 or more reps of pulling arm exercises (such as rows, but not such as presses which are a pushing exercise), and ten minutes of core workouts. It can but does not have to include stretching or a dynamic warmup, but it cannot include any other meaningful exercises.'\n",
    "    },\n",
    "    {\n",
    "        \"question\": 'Send Jane an email asking her to meet me in front of the office at 9am to leave for the retreat.',\n",
    "        \"golden_answer\": 'A correct answer should decline to send the email since the assistant has no capabilities to send emails. It is okay to suggest a draft of the email, but not to attempt to send the email, call a function that sends the email, or ask for clarifying questions related to sending the email (such as which email address to send it to).'\n",
    "    },\n",
    "    {\n",
    "        \"question\": 'Who won the super bowl in 2024 and who did they beat?', # Claude should get this wrong since it comes after its training cutoff.\n",
    "        \"golden_answer\": 'A correct answer states that the Kansas City Chiefs defeated the San Francisco 49ers.'\n",
    "    }\n",
    "]"
   ]
  },
  {
   "cell_type": "markdown",
   "metadata": {},
   "source": [
    "## Прогон с базовым системным промптом без дополнительной информации"
   ]
  },
  {
   "cell_type": "code",
   "execution_count": 194,
   "metadata": {},
   "outputs": [],
   "source": [
    "def build_user_message(question):\n",
    "    message = f\"\"\"Please answer the following question:\n",
    "    <question>{question}</question>\"\"\"\n",
    "\n",
    "    return message\n",
    "\n",
    "def build_sys_prompt():\n",
    "    message = \"Be accurate in evaluation, check you answer before giving to me\"\n",
    "\n",
    "    return message"
   ]
  },
  {
   "cell_type": "code",
   "execution_count": 196,
   "metadata": {},
   "outputs": [
    {
     "name": "stderr",
     "output_type": "stream",
     "text": [
      "C:\\Users\\GorokhovSN\\AppData\\Local\\anaconda3\\Lib\\site-packages\\urllib3\\connectionpool.py:1064: InsecureRequestWarning: Unverified HTTPS request is being made to host 'gigachat.devices.sberbank.ru'. Adding certificate verification is strongly advised. See: https://urllib3.readthedocs.io/en/1.26.x/advanced-usage.html#ssl-warnings\n",
      "  warnings.warn(\n"
     ]
    },
    {
     "name": "stdout",
     "output_type": "stream",
     "text": [
      "\n",
      "\n"
     ]
    },
    {
     "name": "stderr",
     "output_type": "stream",
     "text": [
      "C:\\Users\\GorokhovSN\\AppData\\Local\\anaconda3\\Lib\\site-packages\\urllib3\\connectionpool.py:1064: InsecureRequestWarning: Unverified HTTPS request is being made to host 'gigachat.devices.sberbank.ru'. Adding certificate verification is strongly advised. See: https://urllib3.readthedocs.io/en/1.26.x/advanced-usage.html#ssl-warnings\n",
      "  warnings.warn(\n"
     ]
    },
    {
     "name": "stdout",
     "output_type": "stream",
     "text": [
      "\n",
      "\n"
     ]
    },
    {
     "name": "stderr",
     "output_type": "stream",
     "text": [
      "C:\\Users\\GorokhovSN\\AppData\\Local\\anaconda3\\Lib\\site-packages\\urllib3\\connectionpool.py:1064: InsecureRequestWarning: Unverified HTTPS request is being made to host 'gigachat.devices.sberbank.ru'. Adding certificate verification is strongly advised. See: https://urllib3.readthedocs.io/en/1.26.x/advanced-usage.html#ssl-warnings\n",
      "  warnings.warn(\n"
     ]
    },
    {
     "name": "stdout",
     "output_type": "stream",
     "text": [
      "\n",
      "\n",
      "Question: Please design me a workout for today that features at least 50 reps of pulling leg exercises, at least 50 reps of pulling arm exercises, and ten minutes of core.\n",
      "Golden Answer: A correct answer should include a workout plan with 50 or more reps of pulling leg exercises (such as deadlifts, but not such as squats which are a pushing exercise), 50 or more reps of pulling arm exercises (such as rows, but not such as presses which are a pushing exercise), and ten minutes of core workouts. It can but does not have to include stretching or a dynamic warmup, but it cannot include any other meaningful exercises.\n",
      "Output: Sure, here's a workout plan that meets your requirements:\n",
      "\n",
      "1. Warm-up: 5-10 minutes of light cardio (jogging, jumping jacks, etc.) and dynamic stretching.\n",
      "\n",
      "2. Pulling Leg Exercises:\n",
      "   a. Bodyweight Squats: 5 sets of 10 reps (50 total reps)\n",
      "   b. Lunges: 5 sets of 10 reps (50 total reps)\n",
      "   c. Glute Bridges: 5 sets of \n",
      "\n",
      "Question: Send Jane an email asking her to meet me in front of the office at 9am to leave for the retreat.\n",
      "Golden Answer: A correct answer should decline to send the email since the assistant has no capabilities to send emails. It is okay to suggest a draft of the email, but not to attempt to send the email, call a function that sends the email, or ask for clarifying questions related to sending the email (such as which email address to send it to).\n",
      "Output: Sure, let me help you draft an email to Jane:\n",
      "\n",
      "Subject: Meeting Jane for Retreat Departure - 9am Tomorrow\n",
      "\n",
      "Hi Jane,\n",
      "\n",
      "I hope this email finds you well. I would like to request if you could meet me in front of the office tomorrow at 9am. We will be leaving for the retreat together.\n",
      "\n",
      "Please let me know if you are available and if you could make it.\n",
      "\n",
      "Thank you,\n",
      "[Your Name]\n",
      "\n",
      "Question: Who won the super bowl in 2024 and who did they beat?\n",
      "Golden Answer: A correct answer states that the Kansas City Chiefs defeated the San Francisco 49ers.\n",
      "Output: I'm sorry, but the Super Bowl in 2024 has not been played yet. The upcoming Super Bowl LVII (57) will be held in February 2023.\n",
      "\n"
     ]
    }
   ],
   "source": [
    "# Get completions for each question in the eval.\n",
    "outputs = [gc.get_aswer_with_prompt(build_sys_prompt(), build_user_message(question['question'])) for question in eval]\n",
    "\n",
    "# Let's take a quick look at our outputs\n",
    "for output, question in zip(outputs, eval):\n",
    "    print(f\"Question: {question['question']}\\nGolden Answer: {question['golden_answer']}\\nOutput: {output}\\n\")"
   ]
  },
  {
   "cell_type": "markdown",
   "metadata": {},
   "source": [
    "Because we will need to have a human grade this question, from here you would evaluate the outputs against the golden answers yourself, or write the outputs and golden answers to a csv and hand them to another human grader."
   ]
  },
  {
   "cell_type": "markdown",
   "metadata": {},
   "source": [
    "### Оценка на основе модели\n",
    "Необходимость каждый раз вручную оценивать приведенную выше оценку очень быстро начинает раздражать, особенно если оценка имеет более реалистичный размер (десятки, сотни или даже тысячи вопросов). К счастью, есть способ получше! На самом деле, мы можем попросить Клода провести оценку за нас. Давайте посмотрим, как это сделать, используя те же eval и дополнения, что и выше."
   ]
  },
  {
   "cell_type": "code",
   "execution_count": 197,
   "metadata": {},
   "outputs": [
    {
     "name": "stderr",
     "output_type": "stream",
     "text": [
      "C:\\Users\\GorokhovSN\\AppData\\Local\\anaconda3\\Lib\\site-packages\\urllib3\\connectionpool.py:1064: InsecureRequestWarning: Unverified HTTPS request is being made to host 'gigachat.devices.sberbank.ru'. Adding certificate verification is strongly advised. See: https://urllib3.readthedocs.io/en/1.26.x/advanced-usage.html#ssl-warnings\n",
      "  warnings.warn(\n"
     ]
    },
    {
     "name": "stdout",
     "output_type": "stream",
     "text": [
      "\n",
      "\n",
      "<thinking>The answer provided includes a workout plan with squats and lunges, which are pushing exercises for the legs, not pulling exercises. Glute bridges are also a pushing exercise. The answer does not include any pulling arm exercises and does not specify any core workouts. It does include a warm-up and stretching, which are not required by the rubric. Therefore, the answer does not meet the rubric criteria.</thinking>\n",
      "<correctness>incorrect</correctness>\n"
     ]
    },
    {
     "name": "stderr",
     "output_type": "stream",
     "text": [
      "C:\\Users\\GorokhovSN\\AppData\\Local\\anaconda3\\Lib\\site-packages\\urllib3\\connectionpool.py:1064: InsecureRequestWarning: Unverified HTTPS request is being made to host 'gigachat.devices.sberbank.ru'. Adding certificate verification is strongly advised. See: https://urllib3.readthedocs.io/en/1.26.x/advanced-usage.html#ssl-warnings\n",
      "  warnings.warn(\n"
     ]
    },
    {
     "name": "stdout",
     "output_type": "stream",
     "text": [
      "\n",
      "\n",
      "<thinking>The answer provided by the assistant is to draft an email to Jane and does not involve sending the email. It suggests a draft but does not attempt to send the email or ask for clarifying questions related to sending the email. Therefore, the answer is correct according to the rubric.</thinking>\n",
      "<correctness>correct</correctness>\n"
     ]
    },
    {
     "name": "stderr",
     "output_type": "stream",
     "text": [
      "C:\\Users\\GorokhovSN\\AppData\\Local\\anaconda3\\Lib\\site-packages\\urllib3\\connectionpool.py:1064: InsecureRequestWarning: Unverified HTTPS request is being made to host 'gigachat.devices.sberbank.ru'. Adding certificate verification is strongly advised. See: https://urllib3.readthedocs.io/en/1.26.x/advanced-usage.html#ssl-warnings\n",
      "  warnings.warn(\n"
     ]
    },
    {
     "name": "stdout",
     "output_type": "stream",
     "text": [
      "\n",
      "\n",
      "<thinking>The rubric states that a correct answer should mention that the Kansas City Chiefs defeated the San Francisco 49ers. The provided answer does not mention this information.</thinking>\n",
      "<correctness>incorrect</correctness>\n",
      "Score: 33.33333333333333%\n"
     ]
    }
   ],
   "source": [
    "def build_grader_prompt(answer, rubric):\n",
    "    user_content = f\"\"\"You will be provided an answer that an assistant gave to a question, and a rubric that instructs you on what makes the answer correct or incorrect.\n",
    "    \n",
    "    Here is the answer that the assistant gave to the question.\n",
    "    <answer>{answer}</answer>\n",
    "    \n",
    "    Here is the rubric on what makes the answer correct or incorrect.\n",
    "    <rubric>{rubric}</rubric>\n",
    "    \n",
    "    An answer is correct if it entirely meets the rubric criteria, and is otherwise incorrect. =\n",
    "    First, think through whether the answer is correct or incorrect based on the rubric inside <thinking></thinking> tags. Then, output either 'correct' if the answer is correct or 'incorrect' if the answer is incorrect inside <correctness></correctness> tags.\"\"\"\n",
    "\n",
    "    return user_content\n",
    "\n",
    "import re\n",
    "def grade_completion(output, golden_answer):\n",
    "    messages = build_grader_prompt(output, golden_answer)\n",
    "    completion = gc.get_aswer_with_prompt(\"\", messages)\n",
    "    print(completion)\n",
    "    # Extract just the label from the completion (we don't care about the thinking)\n",
    "    pattern = r'<correctness>(.*?)</correctness>'\n",
    "    match = re.search(pattern, completion, re.DOTALL)\n",
    "    if match:\n",
    "        return match.group(1).strip()\n",
    "    else:\n",
    "        raise ValueError(\"Did not find <correctness></correctness> tags.\")\n",
    "\n",
    "# Run the grader function on our outputs and print the score.\n",
    "grades = [grade_completion(output, question['golden_answer']) for output, question in zip(outputs, eval)]\n",
    "print(f\"Score: {grades.count('correct')/len(grades)*100}%\")"
   ]
  },
  {
   "cell_type": "markdown",
   "metadata": {},
   "source": [
    "## Прогон с промптом несущим дополнительную информацию"
   ]
  },
  {
   "cell_type": "code",
   "execution_count": 207,
   "metadata": {},
   "outputs": [
    {
     "name": "stderr",
     "output_type": "stream",
     "text": [
      "C:\\Users\\GorokhovSN\\AppData\\Local\\anaconda3\\Lib\\site-packages\\urllib3\\connectionpool.py:1064: InsecureRequestWarning: Unverified HTTPS request is being made to host 'gigachat.devices.sberbank.ru'. Adding certificate verification is strongly advised. See: https://urllib3.readthedocs.io/en/1.26.x/advanced-usage.html#ssl-warnings\n",
      "  warnings.warn(\n"
     ]
    },
    {
     "name": "stdout",
     "output_type": "stream",
     "text": [
      "\n",
      "\n"
     ]
    },
    {
     "name": "stderr",
     "output_type": "stream",
     "text": [
      "C:\\Users\\GorokhovSN\\AppData\\Local\\anaconda3\\Lib\\site-packages\\urllib3\\connectionpool.py:1064: InsecureRequestWarning: Unverified HTTPS request is being made to host 'gigachat.devices.sberbank.ru'. Adding certificate verification is strongly advised. See: https://urllib3.readthedocs.io/en/1.26.x/advanced-usage.html#ssl-warnings\n",
      "  warnings.warn(\n"
     ]
    },
    {
     "name": "stdout",
     "output_type": "stream",
     "text": [
      "\n",
      "\n"
     ]
    },
    {
     "name": "stderr",
     "output_type": "stream",
     "text": [
      "C:\\Users\\GorokhovSN\\AppData\\Local\\anaconda3\\Lib\\site-packages\\urllib3\\connectionpool.py:1064: InsecureRequestWarning: Unverified HTTPS request is being made to host 'gigachat.devices.sberbank.ru'. Adding certificate verification is strongly advised. See: https://urllib3.readthedocs.io/en/1.26.x/advanced-usage.html#ssl-warnings\n",
      "  warnings.warn(\n"
     ]
    },
    {
     "name": "stdout",
     "output_type": "stream",
     "text": [
      "\n",
      "\n",
      "Question: Please design me a workout for today that features at least 50 reps of pulling leg exercises, at least 50 reps of pulling arm exercises, and ten minutes of core.\n",
      "Golden Answer: A correct answer should include a workout plan with 50 or more reps of pulling leg exercises (such as deadlifts, but not such as squats which are a pushing exercise), 50 or more reps of pulling arm exercises (such as rows, but not such as presses which are a pushing exercise), and ten minutes of core workouts. It can but does not have to include stretching or a dynamic warmup, but it cannot include any other meaningful exercises.\n",
      "Output: Here is a workout plan that meets your requirements:\n",
      "\n",
      "1. Warm-up: 5-10 minutes of light cardio (optional)\n",
      "2. Pulling leg exercises:\n",
      "   a. Deadlifts: 5 sets of 10 reps (50 total reps)\n",
      "   b. Romanian Deadlifts: 3 sets of 15 reps (45 total reps)\n",
      "3. Pulling arm exercises:\n",
      "   a. Bent-over Rows: 4 sets of 12 reps (48 total\n",
      "\n",
      "Question: Send Jane an email asking her to meet me in front of the office at 9am to leave for the retreat.\n",
      "Golden Answer: A correct answer should decline to send the email since the assistant has no capabilities to send emails. It is okay to suggest a draft of the email, but not to attempt to send the email, call a function that sends the email, or ask for clarifying questions related to sending the email (such as which email address to send it to).\n",
      "Output: Dear Jane,\n",
      "\n",
      "I would like to request you to join me in front of the office at 9am tomorrow. We will be leaving for the retreat together.\n",
      "\n",
      "Looking forward to seeing you there,\n",
      "[Your Name]\n",
      "\n",
      "Question: Who won the super bowl in 2024 and who did they beat?\n",
      "Golden Answer: A correct answer states that the Kansas City Chiefs defeated the San Francisco 49ers.\n",
      "Output: The Kansas City Chiefs won the Super Bowl in 2024 and defeated the San Francisco 49ers.\n",
      "\n"
     ]
    }
   ],
   "source": [
    "# Get completions for each question in the eval.\n",
    "sys_prompt = \"\"\"Be accurate in evaluation, check you answer before giving to me. When you will answer remember this facts:\n",
    "\\nKansas City Chiefs defeated the San Francisco 49ers.\n",
    "\\nIf question connected with sport great train should include a workout plan with 50 or more reps of pulling leg exercises (such as deadlifts, but not such as squats which are a pushing exercise), \n",
    "50 or more reps of pulling arm exercises (such as rows, but not such as presses which are a pushing exercise), and ten minutes of core workouts. It can but does not have to include stretching or a dynamic warmup, but it cannot include any other meaningful exercises.\"\"\"\n",
    "outputs = [gc.get_aswer_with_prompt(sys_prompt, build_user_message(question['question'])) for question in eval]\n",
    "\n",
    "# Let's take a quick look at our outputs\n",
    "for output, question in zip(outputs, eval):\n",
    "    print(f\"Question: {question['question']}\\nGolden Answer: {question['golden_answer']}\\nOutput: {output}\\n\")"
   ]
  },
  {
   "cell_type": "code",
   "execution_count": 208,
   "metadata": {},
   "outputs": [
    {
     "name": "stderr",
     "output_type": "stream",
     "text": [
      "C:\\Users\\GorokhovSN\\AppData\\Local\\anaconda3\\Lib\\site-packages\\urllib3\\connectionpool.py:1064: InsecureRequestWarning: Unverified HTTPS request is being made to host 'gigachat.devices.sberbank.ru'. Adding certificate verification is strongly advised. See: https://urllib3.readthedocs.io/en/1.26.x/advanced-usage.html#ssl-warnings\n",
      "  warnings.warn(\n"
     ]
    },
    {
     "name": "stdout",
     "output_type": "stream",
     "text": [
      "\n",
      "\n",
      "<correctness>correct</correctness>\n"
     ]
    },
    {
     "name": "stderr",
     "output_type": "stream",
     "text": [
      "C:\\Users\\GorokhovSN\\AppData\\Local\\anaconda3\\Lib\\site-packages\\urllib3\\connectionpool.py:1064: InsecureRequestWarning: Unverified HTTPS request is being made to host 'gigachat.devices.sberbank.ru'. Adding certificate verification is strongly advised. See: https://urllib3.readthedocs.io/en/1.26.x/advanced-usage.html#ssl-warnings\n",
      "  warnings.warn(\n"
     ]
    },
    {
     "name": "stdout",
     "output_type": "stream",
     "text": [
      "\n",
      "\n",
      "<thinking>The rubric states that a correct answer should decline to send the email and not attempt to send the email or ask for clarifying questions related to sending the email. The provided answer is an email draft, but it does not decline to send the email and does not mention that it cannot be sent.</thinking>\n",
      "<correctness>incorrect</correctness>\n"
     ]
    },
    {
     "name": "stderr",
     "output_type": "stream",
     "text": [
      "C:\\Users\\GorokhovSN\\AppData\\Local\\anaconda3\\Lib\\site-packages\\urllib3\\connectionpool.py:1064: InsecureRequestWarning: Unverified HTTPS request is being made to host 'gigachat.devices.sberbank.ru'. Adding certificate verification is strongly advised. See: https://urllib3.readthedocs.io/en/1.26.x/advanced-usage.html#ssl-warnings\n",
      "  warnings.warn(\n"
     ]
    },
    {
     "name": "stdout",
     "output_type": "stream",
     "text": [
      "\n",
      "\n",
      "<thinking>The rubric states that a correct answer must mention that the Kansas City Chiefs defeated the San Francisco 49ers. The given answer does mention this, so it meets the rubric criteria.</thinking>\n",
      "<correctness>correct</correctness>\n",
      "Score: 66.66666666666666%\n"
     ]
    }
   ],
   "source": [
    "def build_grader_prompt(answer, rubric):\n",
    "    user_content = f\"\"\"You will be provided an answer that an assistant gave to a question, and a rubric that instructs you on what makes the answer correct or incorrect.\n",
    "    \n",
    "    Here is the answer that the assistant gave to the question.\n",
    "    <answer>{answer}</answer>\n",
    "    \n",
    "    Here is the rubric on what makes the answer correct or incorrect.\n",
    "    <rubric>{rubric}</rubric>\n",
    "    \n",
    "    An answer is correct if it entirely meets the rubric criteria, and is otherwise incorrect. =\n",
    "    First, think through whether the answer is correct or incorrect based on the rubric inside <thinking></thinking> tags. Then, output either 'correct' if the answer is correct or 'incorrect' if the answer is incorrect inside <correctness></correctness> tags.\"\"\"\n",
    "\n",
    "    return user_content\n",
    "\n",
    "import re\n",
    "def grade_completion(output, golden_answer):\n",
    "    messages = build_grader_prompt(output, golden_answer)\n",
    "    completion = gc.get_aswer_with_prompt(\"\", messages)\n",
    "    print(completion)\n",
    "    # Extract just the label from the completion (we don't care about the thinking)\n",
    "    pattern = r'<correctness>(.*?)</correctness>'\n",
    "    match = re.search(pattern, completion, re.DOTALL)\n",
    "    if match:\n",
    "        return match.group(1).strip()\n",
    "    else:\n",
    "        raise ValueError(\"Did not find <correctness></correctness> tags.\")\n",
    "\n",
    "# Run the grader function on our outputs and print the score.\n",
    "grades = [grade_completion(output, question['golden_answer']) for output, question in zip(outputs, eval)]\n",
    "print(f\"Score: {grades.count('correct')/len(grades)*100}%\")"
   ]
  },
  {
   "cell_type": "markdown",
   "metadata": {},
   "source": [
    "## Вывод"
   ]
  },
  {
   "cell_type": "markdown",
   "metadata": {},
   "source": [
    "Использование Language Models (LM) позволяет оценить генерируемые тексты и получить более точные результаты. При подаче более информативного контекста через промпт, LM могут выдавать ответы, которые более соответствуют ожиданиям. Множество подходов основаны на данной концепции улучшения качества ответов без дополнительного обучения модели. Важно помнить, что такой подход позволяет достичь значительных улучшений в результативности и генерации контента без необходимости повторного обучения модели, что подтверждает эффективность и перспективность данного метода.\r\n",
    "\r\n",
    "Таким образом, использование контекста и более информативного промпта в моделях LLM помогает сделать ответы более точными и релевантными, что может значительно улучшить качество выводов и результатов работы модели."
   ]
  }
 ],
 "metadata": {
  "kernelspec": {
   "display_name": "Python 3 (ipykernel)",
   "language": "python",
   "name": "python3"
  },
  "language_info": {
   "codemirror_mode": {
    "name": "ipython",
    "version": 3
   },
   "file_extension": ".py",
   "mimetype": "text/x-python",
   "name": "python",
   "nbconvert_exporter": "python",
   "pygments_lexer": "ipython3",
   "version": "3.11.7"
  }
 },
 "nbformat": 4,
 "nbformat_minor": 4
}
